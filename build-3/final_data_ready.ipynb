{
 "cells": [
  {
   "cell_type": "code",
   "execution_count": 2,
   "outputs": [],
   "source": [
    "# --------------------------------------------------------------------------------------------------------------\n",
    "# --------------------------------------------------------------------------------------------------------------\n",
    "# --------------------------------------------------------------------------------------------------------------\n",
    "# --------------------------------------------------------------------------------------------------------------"
   ],
   "metadata": {
    "collapsed": false,
    "ExecuteTime": {
     "end_time": "2024-12-12T23:22:49.277485400Z",
     "start_time": "2024-12-12T23:22:49.261858200Z"
    }
   }
  },
  {
   "cell_type": "markdown",
   "source": [
    "**Before Integration.ipynb code testing**"
   ],
   "metadata": {
    "collapsed": false
   }
  },
  {
   "cell_type": "code",
   "execution_count": null,
   "outputs": [],
   "source": [
    "import os\n",
    "import cv2\n",
    "import dlib\n",
    "import json\n",
    "import shutil\n",
    "import numpy as np\n",
    "import mediapipe as mp\n",
    "import tensorflow as tf\n",
    "\n",
    "from PIL import Image\n",
    "from tensorflow import keras\n",
    "from tensorflow.keras.preprocessing.image import ImageDataGenerator\n",
    "from tensorflow.keras.models import Sequential, Model, save_model, load_model\n",
    "from tensorflow.keras.layers import Input, Conv2D, MaxPool2D, Flatten, Dense, Add, ReLU, BatchNormalization, GlobalAveragePooling2D, Dropout\n",
    "from tensorflow.keras.optimizers import Adam\n",
    "from tensorflow.keras.metrics import categorical_crossentropy\n",
    "from tensorflow.keras import regularizers\n",
    "from tensorflow.keras.callbacks import EarlyStopping, ReduceLROnPlateau, LearningRateScheduler"
   ],
   "metadata": {
    "collapsed": false
   }
  },
  {
   "cell_type": "code",
   "execution_count": 3,
   "outputs": [
    {
     "name": "stdout",
     "output_type": "stream",
     "text": [
      "2.18.0\n"
     ]
    }
   ],
   "source": [
    "print(tf.__version__)\n",
    "# layers = tf.keras.layers\n",
    "# models = tf.keras.models\n",
    "# Adam = tf.keras.optimizers.Adam"
   ],
   "metadata": {
    "collapsed": false,
    "ExecuteTime": {
     "end_time": "2024-11-26T23:29:59.105737600Z",
     "start_time": "2024-11-26T23:29:59.087619200Z"
    }
   }
  },
  {
   "cell_type": "code",
   "execution_count": 13,
   "outputs": [],
   "source": [
    "# Define paths\n",
    "base_dir = r'D:\\PycharmProjects\\pro_dis_2\\collected_data\\!test'\n",
    "extracted_frames_dir = r'D:\\PycharmProjects\\pro_dis_2\\collected_data\\!test\\extracted_frames_one'\n",
    "cropped_frames_dir = r'D:\\PycharmProjects\\pro_dis_2\\collected_data\\!test\\cropped_frames_two'"
   ],
   "metadata": {
    "collapsed": false,
    "ExecuteTime": {
     "end_time": "2024-11-26T23:48:25.139676800Z",
     "start_time": "2024-11-26T23:48:25.128553800Z"
    }
   }
  },
  {
   "cell_type": "code",
   "execution_count": 12,
   "outputs": [
    {
     "name": "stdout",
     "output_type": "stream",
     "text": [
      "\n",
      "Frame extraction completed.\n"
     ]
    }
   ],
   "source": [
    "def extract_frame(frame, output_dir, frame_index):\n",
    "    frame_filename = os.path.join(output_dir, f\"{frame_index:02d}.png\")  # Format frame index with leading zeros\n",
    "    cv2.imwrite(frame_filename, frame)\n",
    "    return frame_filename\n",
    "\n",
    "def extract_frames_with_priority_deletion(video_path, output_dir, target_frames=60):\n",
    "    # Create base directory for storing extracted frames\n",
    "    os.makedirs(output_dir, exist_ok=True)\n",
    "\n",
    "    cap = cv2.VideoCapture(video_path)\n",
    "    total_frames = int(cap.get(cv2.CAP_PROP_FRAME_COUNT))\n",
    "    frames = []\n",
    "\n",
    "    while True:\n",
    "        ret, frame = cap.read()\n",
    "        if not ret:\n",
    "            break\n",
    "        frames.append(frame)\n",
    "\n",
    "    # Handle case when the video has fewer than the target number of frames\n",
    "    if total_frames < target_frames:\n",
    "        for i in range(total_frames):\n",
    "            extract_frame(frames[i], output_dir, i + 1)  # Start frame index from 1\n",
    "\n",
    "        # Copy the last frame to fill the deficit until the target number is reached\n",
    "        last_frame = frames[-1]\n",
    "        for i in range(total_frames, target_frames):\n",
    "            extract_frame(last_frame, output_dir, i + 1)\n",
    "\n",
    "        print(f\"Copied last frame to fill the deficit for {video_path}.\")\n",
    "        cap.release()\n",
    "        return\n",
    "\n",
    "    # Handle case when the video has more than the target number of frames\n",
    "    if total_frames > target_frames:\n",
    "        frames_to_delete = total_frames - target_frames\n",
    "        delete_from_end = int(frames_to_delete * 0.5)  # 50% of frames to delete from the end\n",
    "        delete_from_start = frames_to_delete - delete_from_end  # 20% from the start\n",
    "\n",
    "        # Retain the middle portion after deleting the required frames\n",
    "        frames = frames[delete_from_start:total_frames - delete_from_end]\n",
    "\n",
    "    # Extract frames after deletion logic or for target-sized videos\n",
    "    for i in range(len(frames)):\n",
    "        extract_frame(frames[i], output_dir, i + 1)\n",
    "\n",
    "    cap.release()\n",
    "    print(f\"Extracted {len(frames)} frames from {video_path} into {output_dir}\")\n",
    "\n",
    "for video_file in os.listdir(base_dir):\n",
    "    if video_file.endswith('.mp4'):\n",
    "        video_path = os.path.join(base_dir, video_file)\n",
    "        print(f\"Processing video: {video_file}\")\n",
    "        extract_frames_with_priority_deletion(video_path, extracted_frames_dir, target_frames=60)\n",
    "\n",
    "print(\"\\nFrame extraction completed.\")"
   ],
   "metadata": {
    "collapsed": false,
    "ExecuteTime": {
     "end_time": "2024-11-26T22:19:53.378459300Z",
     "start_time": "2024-11-26T22:19:53.360797800Z"
    }
   }
  },
  {
   "cell_type": "code",
   "execution_count": 13,
   "outputs": [
    {
     "ename": "FileNotFoundError",
     "evalue": "[WinError 3] The system cannot find the path specified: 'D:\\\\PycharmProjects\\\\pro_dis_2\\\\collected_data\\\\!test\\\\extracted_frames_one'",
     "output_type": "error",
     "traceback": [
      "\u001B[1;31m---------------------------------------------------------------------------\u001B[0m",
      "\u001B[1;31mFileNotFoundError\u001B[0m                         Traceback (most recent call last)",
      "Cell \u001B[1;32mIn[13], line 72\u001B[0m\n\u001B[0;32m     69\u001B[0m os\u001B[38;5;241m.\u001B[39mmakedirs(cropped_frames_dir, exist_ok\u001B[38;5;241m=\u001B[39m\u001B[38;5;28;01mTrue\u001B[39;00m)\n\u001B[0;32m     71\u001B[0m \u001B[38;5;66;03m# Get all frame files in the extracted frames directory\u001B[39;00m\n\u001B[1;32m---> 72\u001B[0m frame_files \u001B[38;5;241m=\u001B[39m [f \u001B[38;5;28;01mfor\u001B[39;00m f \u001B[38;5;129;01min\u001B[39;00m \u001B[43mos\u001B[49m\u001B[38;5;241;43m.\u001B[39;49m\u001B[43mlistdir\u001B[49m\u001B[43m(\u001B[49m\u001B[43mextracted_frames_dir\u001B[49m\u001B[43m)\u001B[49m \u001B[38;5;28;01mif\u001B[39;00m f\u001B[38;5;241m.\u001B[39mendswith(\u001B[38;5;124m'\u001B[39m\u001B[38;5;124m.png\u001B[39m\u001B[38;5;124m'\u001B[39m)]\n\u001B[0;32m     73\u001B[0m cropped_count \u001B[38;5;241m=\u001B[39m \u001B[38;5;241m0\u001B[39m  \u001B[38;5;66;03m# Counter for successfully cropped frames\u001B[39;00m\n\u001B[0;32m     75\u001B[0m \u001B[38;5;66;03m# Process each frame file\u001B[39;00m\n",
      "\u001B[1;31mFileNotFoundError\u001B[0m: [WinError 3] The system cannot find the path specified: 'D:\\\\PycharmProjects\\\\pro_dis_2\\\\collected_data\\\\!test\\\\extracted_frames_one'"
     ]
    }
   ],
   "source": [
    "# Load the detector and predictor (dlib models)\n",
    "detector = dlib.get_frontal_face_detector()\n",
    "predictor = dlib.shape_predictor(\"D:/PycharmProjects/pro_dis_2/models/shape_predictor_68_face_landmarks.dat\")\n",
    "\n",
    "# Mouth crop dimensions\n",
    "LIP_HEIGHT = 80\n",
    "LIP_WIDTH = 112\n",
    "\n",
    "def process_frame(frame_file, path, output_path):\n",
    "    \"\"\"\n",
    "    Save a single frame as a .png image in the specified directory.\n",
    "    Ensures complete image save before moving to the next frame.\n",
    "    \"\"\"\n",
    "    frame_path = os.path.join(path, frame_file)\n",
    "    try:\n",
    "        # Load the frame\n",
    "        frame = cv2.imread(frame_path)\n",
    "        if frame is None:\n",
    "            print(f\"Warning: Could not read frame {frame_path}. Skipping.\")\n",
    "            return False\n",
    "\n",
    "        gray = cv2.cvtColor(frame, cv2.COLOR_BGR2GRAY)\n",
    "\n",
    "        # Detect faces in the grayscale image\n",
    "        faces = detector(gray)\n",
    "\n",
    "        if not faces:\n",
    "            return False\n",
    "\n",
    "        # Only process if a face is detected\n",
    "        for face in faces:\n",
    "            landmarks = predictor(gray, face)\n",
    "\n",
    "            # Extract the mouth region by iterating over the landmarks (48 to 67)\n",
    "            mouth_points = [(landmarks.part(n).x, landmarks.part(n).y) for n in range(48, 68)]\n",
    "            mouth_points_np = np.array(mouth_points)\n",
    "\n",
    "            # Find the bounding rectangle around the mouth points\n",
    "            x, y, w, h = cv2.boundingRect(mouth_points_np)\n",
    "\n",
    "            # Calculate padding to fit the target dimensions\n",
    "            width_diff = LIP_WIDTH - w\n",
    "            height_diff = LIP_HEIGHT - h\n",
    "            pad_left = max(width_diff // 2, 0)\n",
    "            pad_right = max(width_diff - pad_left, 0)\n",
    "            pad_top = max(height_diff // 2, 0)\n",
    "            pad_bottom = max(height_diff - pad_top, 0)\n",
    "\n",
    "            # Adjust padding to ensure it doesn’t exceed image boundaries\n",
    "            pad_left = min(pad_left, x)\n",
    "            pad_right = min(pad_right, frame.shape[1] - (x + w))\n",
    "            pad_top = min(pad_top, y)\n",
    "            pad_bottom = min(pad_bottom, frame.shape[0] - (y + h))\n",
    "\n",
    "            # Crop and resize the mouth region\n",
    "            lip_frame = frame[y - pad_top:y + h + pad_bottom, x - pad_left:x + w + pad_right]\n",
    "            lip_frame = cv2.resize(lip_frame, (LIP_WIDTH, LIP_HEIGHT))\n",
    "\n",
    "            # Save the cropped mouth region to the output directory\n",
    "            output_frame_path = os.path.join(output_path, frame_file)\n",
    "            cv2.imwrite(output_frame_path, lip_frame)\n",
    "\n",
    "            return True  # Exit after processing the first detected face\n",
    "    except Exception as e:\n",
    "        print(f\"Error processing frame {frame_path}: {e}\")\n",
    "        return False\n",
    "\n",
    "# Create the output directory if it doesn't exist\n",
    "os.makedirs(cropped_frames_dir, exist_ok=True)\n",
    "\n",
    "# Get all frame files in the extracted frames directory\n",
    "frame_files = [f for f in os.listdir(extracted_frames_dir) if f.endswith('.png')]\n",
    "cropped_count = 0  # Counter for successfully cropped frames\n",
    "\n",
    "# Process each frame file\n",
    "for frame_file in frame_files:\n",
    "    if process_frame(frame_file, extracted_frames_dir, cropped_frames_dir):\n",
    "        cropped_count += 1\n",
    "\n",
    "# Print the number of cropped images\n",
    "print(f\"Finished processing all frames. Images cropped -> {cropped_count}\")\n",
    "\n",
    "print(\"\\nMouth cropping completed for all frames.\")"
   ],
   "metadata": {
    "collapsed": false,
    "ExecuteTime": {
     "end_time": "2024-11-26T22:20:27.091453900Z",
     "start_time": "2024-11-26T22:20:23.506270600Z"
    }
   }
  },
  {
   "cell_type": "code",
   "execution_count": 53,
   "outputs": [
    {
     "name": "stdout",
     "output_type": "stream",
     "text": [
      "Combined image saved at: D:\\PycharmProjects\\pro_dis_2\\collected_data\\!test\\combined_frames.png\n",
      "\n",
      "All frames are combined and saved as a single image.\n"
     ]
    }
   ],
   "source": [
    "def combine_images(input_path, output_path, output_filename=\"combined_frames.png\"):\n",
    "    # List all frame files and sort them to maintain order\n",
    "    frame_files = [f for f in os.listdir(input_path) if f.endswith('.png')]\n",
    "    frame_files.sort()  # Ensure the frames are in order\n",
    "\n",
    "    # Check that there are exactly 60 frames\n",
    "    if len(frame_files) != 60:\n",
    "        print(f\"Warning: {input_path} does not contain exactly 60 frames. Skipping.\")\n",
    "        return\n",
    "\n",
    "    # Load the first image to get dimensions\n",
    "    first_image = cv2.imread(os.path.join(input_path, frame_files[0]))\n",
    "    if first_image is None:\n",
    "        print(f\"Error: Could not read {frame_files[0]}.\")\n",
    "        return\n",
    "\n",
    "    img_height, img_width, channels = first_image.shape\n",
    "\n",
    "    # Create an empty array for the combined image (10 rows × 6 columns)\n",
    "    combined_image = np.zeros((img_height * 10, img_width * 6, channels), dtype=np.uint8)\n",
    "\n",
    "    # Place each frame into the correct position in the combined image\n",
    "    for idx, frame_file in enumerate(frame_files):\n",
    "        img = cv2.imread(os.path.join(input_path, frame_file))\n",
    "        if img is None:\n",
    "            print(f\"Error: Could not read {frame_file}.\")\n",
    "            continue\n",
    "\n",
    "        row = idx // 6\n",
    "        col = idx % 6\n",
    "\n",
    "        # Place the image in the combined image array\n",
    "        combined_image[row * img_height:(row + 1) * img_height, col * img_width:(col + 1) * img_width] = img\n",
    "\n",
    "    # Save the combined image\n",
    "    cv2.imwrite(os.path.join(output_path, output_filename), combined_image)\n",
    "\n",
    "    print(f\"Combined image saved at: {os.path.join(output_path, output_filename)}\")\n",
    "\n",
    "# Create the output directory if it does not exist\n",
    "os.makedirs(base_dir, exist_ok=True)\n",
    "\n",
    "# Combine the images and save as a single image\n",
    "combine_images(cropped_frames_dir, base_dir)\n",
    "\n",
    "print(\"\\nAll frames are combined and saved as a single image.\")"
   ],
   "metadata": {
    "collapsed": false,
    "ExecuteTime": {
     "end_time": "2024-11-20T15:45:40.336611600Z",
     "start_time": "2024-11-20T15:45:40.292200300Z"
    }
   }
  },
  {
   "cell_type": "markdown",
   "source": [
    "**(one-time)**"
   ],
   "metadata": {
    "collapsed": false
   }
  },
  {
   "cell_type": "code",
   "execution_count": 21,
   "outputs": [],
   "source": [
    "train_path = r'D:\\PycharmProjects\\pro_dis_2\\collected_data\\8_final_images_800_cl8\\Train'\n",
    "test_path = r'D:\\PycharmProjects\\pro_dis_2\\collected_data\\8_final_images_800_cl8\\Test'\n",
    "valid_path = r'D:\\PycharmProjects\\pro_dis_2\\collected_data\\8_final_images_800_cl8\\Validation'"
   ],
   "metadata": {
    "collapsed": false,
    "ExecuteTime": {
     "end_time": "2024-11-26T23:53:39.372568600Z",
     "start_time": "2024-11-26T23:53:39.365311900Z"
    }
   }
  },
  {
   "cell_type": "code",
   "execution_count": 22,
   "outputs": [],
   "source": [
    "# IDG = ImageDataGenerator(rescale = 1/255)\n",
    "#\n",
    "# # word_classes = ['bat', 'cup', 'dog', 'drop', 'eat', 'fast', 'fish', 'hot', 'jump', 'milk', 'pen', 'red', 'stop', 'win', 'yes']\n",
    "#\n",
    "# word_classes = ['bat', 'cup', 'drop', 'eat', 'fish', 'hot', 'jump', 'milk']"
   ],
   "metadata": {
    "collapsed": false,
    "ExecuteTime": {
     "end_time": "2024-11-26T23:53:49.587027800Z",
     "start_time": "2024-11-26T23:53:49.569776100Z"
    }
   }
  },
  {
   "cell_type": "code",
   "execution_count": 23,
   "outputs": [
    {
     "name": "stdout",
     "output_type": "stream",
     "text": [
      "Found 640 images belonging to 8 classes.\n",
      "Found 5120 images belonging to 8 classes.\n",
      "Found 640 images belonging to 8 classes.\n"
     ]
    }
   ],
   "source": [
    "# test = IDG.flow_from_directory(directory=test_path, target_size=(224, 224),\n",
    "#                                classes=word_classes, batch_size=10,\n",
    "#                                class_mode='categorical')\n",
    "#\n",
    "# train = IDG.flow_from_directory(directory=train_path, target_size=(224, 224),\n",
    "#                                 classes=word_classes, batch_size=10,\n",
    "#                                 class_mode='categorical')\n",
    "#\n",
    "# valid = IDG.flow_from_directory(directory=valid_path, target_size=(224, 224),\n",
    "#                                 classes=word_classes, batch_size=10, shuffle=False,\n",
    "#                                 class_mode='categorical')"
   ],
   "metadata": {
    "collapsed": false,
    "ExecuteTime": {
     "end_time": "2024-11-26T23:53:52.859283300Z",
     "start_time": "2024-11-26T23:53:52.643813300Z"
    }
   }
  },
  {
   "cell_type": "markdown",
   "source": [
    "**testing models**"
   ],
   "metadata": {
    "collapsed": false
   }
  },
  {
   "cell_type": "code",
   "execution_count": 24,
   "outputs": [
    {
     "name": "stderr",
     "output_type": "stream",
     "text": [
      "WARNING:absl:Compiled the loaded model, but the compiled metrics have yet to be built. `model.compile_metrics` will be empty until you train or evaluate the model.\n"
     ]
    }
   ],
   "source": [
    "# new_model = load_model(r'D:\\PycharmProjects\\pro_dis_2\\models\\model3264_cl8_d800_1e4.h5')"
   ],
   "metadata": {
    "collapsed": false,
    "ExecuteTime": {
     "end_time": "2024-11-26T23:54:42.000172600Z",
     "start_time": "2024-11-26T23:54:41.949503400Z"
    }
   }
  },
  {
   "cell_type": "code",
   "execution_count": 25,
   "outputs": [
    {
     "name": "stderr",
     "output_type": "stream",
     "text": [
      "D:\\PycharmProjects\\pro_dis_2\\venv\\lib\\site-packages\\keras\\src\\trainers\\data_adapters\\py_dataset_adapter.py:121: UserWarning: Your `PyDataset` class should call `super().__init__(**kwargs)` in its constructor. `**kwargs` can include `workers`, `use_multiprocessing`, `max_queue_size`. Do not pass these arguments to `fit()`, as they will be ignored.\n",
      "  self._warn_if_super_not_called()\n"
     ]
    },
    {
     "name": "stdout",
     "output_type": "stream",
     "text": [
      "\u001B[1m64/64\u001B[0m \u001B[32m━━━━━━━━━━━━━━━━━━━━\u001B[0m\u001B[37m\u001B[0m \u001B[1m6s\u001B[0m 84ms/step - accuracy: 0.9624 - loss: 0.1398\n",
      "Test Loss: 0.17101401090621948\n",
      "Test Accuracy: 0.948437511920929\n"
     ]
    }
   ],
   "source": [
    "# # Evaluate the model on the test data generator\n",
    "# results = new_model.evaluate(test, verbose=1)\n",
    "#\n",
    "# # Print the results\n",
    "# print(\"Test Loss:\", results[0])\n",
    "# print(\"Test Accuracy:\", results[1])"
   ],
   "metadata": {
    "collapsed": false,
    "ExecuteTime": {
     "end_time": "2024-11-26T23:54:50.372815900Z",
     "start_time": "2024-11-26T23:54:44.726089800Z"
    }
   }
  },
  {
   "cell_type": "markdown",
   "source": [
    "**(one-time)**"
   ],
   "metadata": {
    "collapsed": false
   }
  },
  {
   "cell_type": "code",
   "execution_count": 9,
   "outputs": [],
   "source": [
    "# # Save the class mapping from the train generator\n",
    "# class_indices = train.class_indices  # Assuming 'train' is your data generator\n",
    "# class_labels = {v: k for k, v in class_indices.items()}  # Reverse the mapping\n",
    "# with open(r'D:\\PycharmProjects\\pro_dis_2\\models\\class_labels_cl8.json', 'w') as f:\n",
    "#     json.dump(class_labels, f)"
   ],
   "metadata": {
    "collapsed": false,
    "ExecuteTime": {
     "end_time": "2024-11-26T23:31:21.721005200Z",
     "start_time": "2024-11-26T23:31:21.706436300Z"
    }
   }
  },
  {
   "cell_type": "code",
   "execution_count": 54,
   "outputs": [
    {
     "name": "stderr",
     "output_type": "stream",
     "text": [
      "WARNING:absl:Compiled the loaded model, but the compiled metrics have yet to be built. `model.compile_metrics` will be empty until you train or evaluate the model.\n"
     ]
    }
   ],
   "source": [
    "# # Load the model from the .h5 file\n",
    "# model = load_model(r'D:\\PycharmProjects\\pro_dis_2\\collected_data\\!test\\model_3264_4_1e4.h5')"
   ],
   "metadata": {
    "collapsed": false,
    "ExecuteTime": {
     "end_time": "2024-11-20T15:45:49.687516900Z",
     "start_time": "2024-11-20T15:45:49.645974600Z"
    }
   }
  },
  {
   "cell_type": "markdown",
   "source": [
    "**testing json file**"
   ],
   "metadata": {
    "collapsed": false
   }
  },
  {
   "cell_type": "code",
   "execution_count": 26,
   "outputs": [],
   "source": [
    "# # Load the saved class labels\n",
    "# with open(r'D:\\PycharmProjects\\pro_dis_2\\models\\class_labels_cl10.json', 'r') as f:\n",
    "#     class_labels = json.load(f)"
   ],
   "metadata": {
    "collapsed": false,
    "ExecuteTime": {
     "end_time": "2024-11-27T16:20:15.837716900Z",
     "start_time": "2024-11-27T16:20:15.792190400Z"
    }
   }
  },
  {
   "cell_type": "code",
   "execution_count": 27,
   "outputs": [
    {
     "data": {
      "text/plain": "{'0': 'bat',\n '1': 'cup',\n '2': 'drop',\n '3': 'eat',\n '4': 'fish',\n '5': 'hot',\n '6': 'jump',\n '7': 'milk',\n '8': 'pen',\n '9': 'red'}"
     },
     "execution_count": 27,
     "metadata": {},
     "output_type": "execute_result"
    }
   ],
   "source": [
    "# class_labels"
   ],
   "metadata": {
    "collapsed": false,
    "ExecuteTime": {
     "end_time": "2024-11-27T16:20:20.613598300Z",
     "start_time": "2024-11-27T16:20:20.575032500Z"
    }
   }
  },
  {
   "cell_type": "code",
   "execution_count": 56,
   "outputs": [
    {
     "name": "stdout",
     "output_type": "stream",
     "text": [
      "\u001B[1m1/1\u001B[0m \u001B[32m━━━━━━━━━━━━━━━━━━━━\u001B[0m\u001B[37m\u001B[0m \u001B[1m0s\u001B[0m 22ms/step\n",
      "\n",
      "Predicted class index: 0\n",
      "Predicted word: cup\n"
     ]
    }
   ],
   "source": [
    "# # Load the saved class labels\n",
    "# with open('class_labels.json', 'r') as f:\n",
    "#     class_labels = json.load(f)\n",
    "#\n",
    "# # Load and preprocess the image using PIL\n",
    "# img_path = r'D:\\PycharmProjects\\pro_dis_2\\collected_data\\!test\\combined_frames.png'\n",
    "# img = Image.open(img_path).resize((224, 224), Image.LANCZOS)  # Resize with LANCZOS filter\n",
    "# img_array = np.array(img) / 255.0  # Normalize pixel values\n",
    "# img_array = np.expand_dims(img_array, axis=0)  # Add batch dimension\n",
    "#\n",
    "# # Predict using the loaded model\n",
    "# predictions = model.predict(img_array)\n",
    "# predicted_class_index = np.argmax(predictions, axis=1)[0]\n",
    "#\n",
    "# # Get the predicted class index and label\n",
    "# print(f\"\\nPredicted class index: {predicted_class_index}\")\n",
    "# predicted_word = class_labels[str(predicted_class_index)]  # Use string keys for JSON\n",
    "# print(f\"Predicted word: {predicted_word}\")"
   ],
   "metadata": {
    "collapsed": false,
    "ExecuteTime": {
     "end_time": "2024-11-20T15:46:07.451752400Z",
     "start_time": "2024-11-20T15:46:07.378064500Z"
    }
   }
  },
  {
   "cell_type": "code",
   "execution_count": 43,
   "outputs": [
    {
     "data": {
      "text/plain": "array([[5.4100692e-05, 5.8469123e-09, 9.5133680e-01, 4.8609152e-02]],\n      dtype=float32)"
     },
     "execution_count": 43,
     "metadata": {},
     "output_type": "execute_result"
    }
   ],
   "source": [
    "# predictions"
   ],
   "metadata": {
    "collapsed": false,
    "ExecuteTime": {
     "end_time": "2024-11-20T15:23:26.123063800Z",
     "start_time": "2024-11-20T15:23:26.080591100Z"
    }
   }
  },
  {
   "cell_type": "code",
   "execution_count": 57,
   "outputs": [
    {
     "name": "stdout",
     "output_type": "stream",
     "text": [
      "Recording started\n",
      "Recording stopped and saved at: D:\\PycharmProjects\\pro_dis_2\\collected_data\\!test\\recording.mp4\n",
      "Recording started\n",
      "Recording stopped and saved at: D:\\PycharmProjects\\pro_dis_2\\collected_data\\!test\\recording.mp4\n",
      "Recording started\n",
      "Recording stopped and saved at: D:\\PycharmProjects\\pro_dis_2\\collected_data\\!test\\recording.mp4\n",
      "Recording started\n",
      "Recording stopped and saved at: D:\\PycharmProjects\\pro_dis_2\\collected_data\\!test\\recording.mp4\n",
      "Recording started\n",
      "Recording stopped and saved at: D:\\PycharmProjects\\pro_dis_2\\collected_data\\!test\\recording.mp4\n"
     ]
    }
   ],
   "source": [
    "# # Initialize MediaPipe Hands and Drawing modules\n",
    "# mp_hands = mp.solutions.hands\n",
    "# mp_drawing = mp.solutions.drawing_utils\n",
    "#\n",
    "# # Initialize video capture\n",
    "# cap = cv2.VideoCapture(0, cv2.CAP_DSHOW)\n",
    "#\n",
    "# # Set the resolution to the maximum supported by your camera\n",
    "# cap.set(cv2.CAP_PROP_FRAME_WIDTH, 1280)  # Set width (e.g., 1280 for 720p)\n",
    "# cap.set(cv2.CAP_PROP_FRAME_HEIGHT, 720)  # Set height (e.g., 720 for 720p)\n",
    "#\n",
    "# os.makedirs(base_dir, exist_ok=True)\n",
    "#\n",
    "# # Variables to handle recording\n",
    "# recording = False\n",
    "# video_writer = None\n",
    "#\n",
    "# # Set video codec and file format\n",
    "# fps = int(cap.get(cv2.CAP_PROP_FPS)) or 30  # Default to 30 if unable to read fps\n",
    "# frame_width = int(cap.get(cv2.CAP_PROP_FRAME_WIDTH))\n",
    "# frame_height = int(cap.get(cv2.CAP_PROP_FRAME_HEIGHT))\n",
    "#\n",
    "# def is_open_hand(hand_landmarks):\n",
    "#     \"\"\" Check if all fingers are extended (open hand) \"\"\"\n",
    "#     for finger_tip, finger_pip in [\n",
    "#         (mp_hands.HandLandmark.INDEX_FINGER_TIP, mp_hands.HandLandmark.INDEX_FINGER_PIP),\n",
    "#         (mp_hands.HandLandmark.MIDDLE_FINGER_TIP, mp_hands.HandLandmark.MIDDLE_FINGER_PIP),\n",
    "#         (mp_hands.HandLandmark.RING_FINGER_TIP, mp_hands.HandLandmark.RING_FINGER_PIP),\n",
    "#         (mp_hands.HandLandmark.PINKY_TIP, mp_hands.HandLandmark.PINKY_PIP)\n",
    "#     ]:\n",
    "#         if hand_landmarks.landmark[finger_tip].y > hand_landmarks.landmark[finger_pip].y:\n",
    "#             return False  # A finger is not extended\n",
    "#     return True  # All fingers are extended\n",
    "#\n",
    "# def is_closed_fist(hand_landmarks):\n",
    "#     \"\"\" Check if all fingers are folded (closed fist) \"\"\"\n",
    "#     for finger_tip, finger_pip in [\n",
    "#         (mp_hands.HandLandmark.INDEX_FINGER_TIP, mp_hands.HandLandmark.INDEX_FINGER_PIP),\n",
    "#         (mp_hands.HandLandmark.MIDDLE_FINGER_TIP, mp_hands.HandLandmark.MIDDLE_FINGER_PIP),\n",
    "#         (mp_hands.HandLandmark.RING_FINGER_TIP, mp_hands.HandLandmark.RING_FINGER_PIP),\n",
    "#         (mp_hands.HandLandmark.PINKY_TIP, mp_hands.HandLandmark.PINKY_PIP)\n",
    "#     ]:\n",
    "#         if hand_landmarks.landmark[finger_tip].y < hand_landmarks.landmark[finger_pip].y:\n",
    "#             return False  # A finger is extended\n",
    "#     return True  # All fingers are folded\n",
    "#\n",
    "# with mp_hands.Hands(min_detection_confidence=0.8, min_tracking_confidence=0.5) as hands:\n",
    "#     while cap.isOpened():\n",
    "#         ret, frame = cap.read()\n",
    "#         if not ret:\n",
    "#             break\n",
    "#\n",
    "#         image_height, image_width, _ = frame.shape\n",
    "#\n",
    "#         # Convert BGR to RGB and flip for mirror effect\n",
    "#         image = cv2.cvtColor(frame, cv2.COLOR_BGR2RGB)\n",
    "#         image = cv2.flip(image, 1)\n",
    "#         image.flags.writeable = False  # Set to False for faster processing\n",
    "#\n",
    "#         # Process the image and find hands\n",
    "#         results = hands.process(image)\n",
    "#         image.flags.writeable = True  # Set to True for drawing\n",
    "#         image = cv2.cvtColor(image, cv2.COLOR_RGB2BGR)\n",
    "#\n",
    "#         # Check if hands are detected\n",
    "#         if results.multi_hand_landmarks:\n",
    "#             for num, hand_landmarks in enumerate(results.multi_hand_landmarks):\n",
    "#                 mp_drawing.draw_landmarks(\n",
    "#                     image, hand_landmarks, mp_hands.HAND_CONNECTIONS,\n",
    "#                     mp_drawing.DrawingSpec(color=(121, 22, 76), thickness=2, circle_radius=4),\n",
    "#                     mp_drawing.DrawingSpec(color=(121, 44, 250), thickness=2, circle_radius=2)\n",
    "#                 )\n",
    "#\n",
    "#                 # Gesture recognition logic\n",
    "#                 if is_open_hand(hand_landmarks):\n",
    "#                     cv2.putText(image, \"Open Hand Detected\", (10, 50), cv2.FONT_HERSHEY_SIMPLEX, 1, (0, 255, 0), 2)\n",
    "#                     if not recording:\n",
    "#                         recording = True\n",
    "#                         video_name = \"recording.mp4\"  # Change this if needed for unique names\n",
    "#                         output_file = os.path.join(base_dir, video_name)\n",
    "#                         video_writer = cv2.VideoWriter(\n",
    "#                             output_file,\n",
    "#                             cv2.VideoWriter_fourcc(*'mp4v'),  # Codec for .mp4 format\n",
    "#                             fps,\n",
    "#                             (frame_width, frame_height)\n",
    "#                         )\n",
    "#                         if not video_writer.isOpened():\n",
    "#                             print(\"Error: Video writer failed to open.\")\n",
    "#                             recording = False\n",
    "#                         else:\n",
    "#                             print(\"Recording started\")\n",
    "#\n",
    "#                 elif is_closed_fist(hand_landmarks):\n",
    "#                     cv2.putText(image, \"Closed Fist Detected\", (10, 50), cv2.FONT_HERSHEY_SIMPLEX, 1, (0, 0, 255), 2)\n",
    "#                     if recording:\n",
    "#                         recording = False\n",
    "#                         if video_writer is not None:\n",
    "#                             video_writer.release()\n",
    "#                             print(f\"Recording stopped and saved at: {output_file}\")\n",
    "#                         video_writer = None  # Reset the writer\n",
    "#\n",
    "#         # Write frame to the video if recording\n",
    "#         if recording and video_writer is not None:\n",
    "#             video_writer.write(frame)\n",
    "#\n",
    "#         # Display the image with results\n",
    "#         cv2.imshow('Hand Gesture Recognition', image)\n",
    "#\n",
    "#         if cv2.waitKey(10) & 0xFF == ord('q'):\n",
    "#             break\n",
    "#\n",
    "# # Release resources\n",
    "# cap.release()\n",
    "# if video_writer is not None:\n",
    "#     video_writer.release()\n",
    "# cv2.destroyAllWindows()"
   ],
   "metadata": {
    "collapsed": false
   }
  },
  {
   "cell_type": "code",
   "execution_count": 1,
   "outputs": [],
   "source": [
    "# --------------------------------------------------------------------------------------------------------------\n",
    "# --------------------------------------------------------------------------------------------------------------\n",
    "# --------------------------------------------------------------------------------------------------------------\n",
    "# --------------------------------------------------------------------------------------------------------------"
   ],
   "metadata": {
    "collapsed": false,
    "ExecuteTime": {
     "end_time": "2024-12-12T23:18:34.698489900Z",
     "start_time": "2024-12-12T23:18:34.682940900Z"
    }
   }
  },
  {
   "cell_type": "markdown",
   "source": [
    "**main lip reading model codes for evaluation**"
   ],
   "metadata": {
    "collapsed": false
   }
  },
  {
   "cell_type": "code",
   "execution_count": 3,
   "outputs": [],
   "source": [
    "import os\n",
    "import numpy as np\n",
    "from PIL import Image\n",
    "import tensorflow as tf\n",
    "from tensorflow.keras.optimizers import Adam\n",
    "from tensorflow.keras.preprocessing.image import ImageDataGenerator\n",
    "from tensorflow.keras.models import Sequential, Model, save_model, load_model\n",
    "from tensorflow.keras.layers import Input, Conv2D, MaxPool2D, Flatten, Dense, Add, ReLU, BatchNormalization, GlobalAveragePooling2D, Dropout"
   ],
   "metadata": {
    "collapsed": false,
    "ExecuteTime": {
     "end_time": "2024-12-12T23:29:21.316665300Z",
     "start_time": "2024-12-12T23:29:19.170058500Z"
    }
   }
  },
  {
   "cell_type": "code",
   "execution_count": 4,
   "outputs": [],
   "source": [
    "train_path = r'D:\\src_4_pro_dis_2\\data_4_img_recog\\!from asus ssd\\7_final_images_130\\Train'\n",
    "test_path = r'D:\\src_4_pro_dis_2\\data_4_img_recog\\!from asus ssd\\7_final_images_130\\Test'\n",
    "valid_path = r'D:\\src_4_pro_dis_2\\data_4_img_recog\\!from asus ssd\\7_final_images_130\\Validation'"
   ],
   "metadata": {
    "collapsed": false,
    "ExecuteTime": {
     "end_time": "2024-12-12T23:29:27.932273400Z",
     "start_time": "2024-12-12T23:29:27.916641Z"
    }
   }
  },
  {
   "cell_type": "code",
   "execution_count": 18,
   "outputs": [],
   "source": [
    "IDG = ImageDataGenerator(rescale = 1/255)\n",
    "\n",
    "word_classes = ['bat', 'cup', 'drop', 'eat', 'fish', 'hot', 'jump', 'milk', 'pen', 'red']"
   ],
   "metadata": {
    "collapsed": false,
    "ExecuteTime": {
     "end_time": "2024-12-13T00:35:56.138092600Z",
     "start_time": "2024-12-13T00:35:56.122405300Z"
    }
   }
  },
  {
   "cell_type": "code",
   "execution_count": 19,
   "outputs": [
    {
     "name": "stdout",
     "output_type": "stream",
     "text": [
      "Found 200 images belonging to 10 classes.\n",
      "Found 900 images belonging to 10 classes.\n",
      "Found 200 images belonging to 10 classes.\n"
     ]
    }
   ],
   "source": [
    "test = IDG.flow_from_directory(directory=test_path, target_size=(224, 224),\n",
    "                               classes=word_classes, batch_size=16,\n",
    "                               class_mode='categorical')\n",
    "train = IDG.flow_from_directory(directory=train_path, target_size=(224, 224),\n",
    "                                classes=word_classes, batch_size=16,\n",
    "                                class_mode='categorical')\n",
    "valid = IDG.flow_from_directory(directory=valid_path, target_size=(224, 224),\n",
    "                                classes=word_classes, batch_size=16, shuffle=False,\n",
    "                                class_mode='categorical')"
   ],
   "metadata": {
    "collapsed": false,
    "ExecuteTime": {
     "end_time": "2024-12-13T00:35:59.630892400Z",
     "start_time": "2024-12-13T00:35:59.435482500Z"
    }
   }
  },
  {
   "cell_type": "code",
   "execution_count": 9,
   "outputs": [
    {
     "name": "stderr",
     "output_type": "stream",
     "text": [
      "C:\\Users\\Admin\\PycharmProjects\\pythonProject_1\\venv\\lib\\site-packages\\keras\\src\\layers\\convolutional\\base_conv.py:107: UserWarning: Do not pass an `input_shape`/`input_dim` argument to a layer. When using Sequential models, prefer using an `Input(shape)` object as the first layer in the model instead.\n",
      "  super().__init__(activity_regularizer=activity_regularizer, **kwargs)\n"
     ]
    },
    {
     "data": {
      "text/plain": "\u001B[1mModel: \"sequential\"\u001B[0m\n",
      "text/html": "<pre style=\"white-space:pre;overflow-x:auto;line-height:normal;font-family:Menlo,'DejaVu Sans Mono',consolas,'Courier New',monospace\"><span style=\"font-weight: bold\">Model: \"sequential\"</span>\n</pre>\n"
     },
     "metadata": {},
     "output_type": "display_data"
    },
    {
     "data": {
      "text/plain": "┏━━━━━━━━━━━━━━━━━━━━━━━━━━━━━━━━━┳━━━━━━━━━━━━━━━━━━━━━━━━┳━━━━━━━━━━━━━━━┓\n┃\u001B[1m \u001B[0m\u001B[1mLayer (type)                   \u001B[0m\u001B[1m \u001B[0m┃\u001B[1m \u001B[0m\u001B[1mOutput Shape          \u001B[0m\u001B[1m \u001B[0m┃\u001B[1m \u001B[0m\u001B[1m      Param #\u001B[0m\u001B[1m \u001B[0m┃\n┡━━━━━━━━━━━━━━━━━━━━━━━━━━━━━━━━━╇━━━━━━━━━━━━━━━━━━━━━━━━╇━━━━━━━━━━━━━━━┩\n│ conv2d (\u001B[38;5;33mConv2D\u001B[0m)                 │ (\u001B[38;5;45mNone\u001B[0m, \u001B[38;5;34m224\u001B[0m, \u001B[38;5;34m224\u001B[0m, \u001B[38;5;34m32\u001B[0m)   │           \u001B[38;5;34m896\u001B[0m │\n├─────────────────────────────────┼────────────────────────┼───────────────┤\n│ max_pooling2d (\u001B[38;5;33mMaxPooling2D\u001B[0m)    │ (\u001B[38;5;45mNone\u001B[0m, \u001B[38;5;34m112\u001B[0m, \u001B[38;5;34m112\u001B[0m, \u001B[38;5;34m32\u001B[0m)   │             \u001B[38;5;34m0\u001B[0m │\n├─────────────────────────────────┼────────────────────────┼───────────────┤\n│ conv2d_1 (\u001B[38;5;33mConv2D\u001B[0m)               │ (\u001B[38;5;45mNone\u001B[0m, \u001B[38;5;34m112\u001B[0m, \u001B[38;5;34m112\u001B[0m, \u001B[38;5;34m64\u001B[0m)   │        \u001B[38;5;34m18,496\u001B[0m │\n├─────────────────────────────────┼────────────────────────┼───────────────┤\n│ max_pooling2d_1 (\u001B[38;5;33mMaxPooling2D\u001B[0m)  │ (\u001B[38;5;45mNone\u001B[0m, \u001B[38;5;34m56\u001B[0m, \u001B[38;5;34m56\u001B[0m, \u001B[38;5;34m64\u001B[0m)     │             \u001B[38;5;34m0\u001B[0m │\n├─────────────────────────────────┼────────────────────────┼───────────────┤\n│ conv2d_2 (\u001B[38;5;33mConv2D\u001B[0m)               │ (\u001B[38;5;45mNone\u001B[0m, \u001B[38;5;34m56\u001B[0m, \u001B[38;5;34m56\u001B[0m, \u001B[38;5;34m128\u001B[0m)    │        \u001B[38;5;34m73,856\u001B[0m │\n├─────────────────────────────────┼────────────────────────┼───────────────┤\n│ max_pooling2d_2 (\u001B[38;5;33mMaxPooling2D\u001B[0m)  │ (\u001B[38;5;45mNone\u001B[0m, \u001B[38;5;34m28\u001B[0m, \u001B[38;5;34m28\u001B[0m, \u001B[38;5;34m128\u001B[0m)    │             \u001B[38;5;34m0\u001B[0m │\n├─────────────────────────────────┼────────────────────────┼───────────────┤\n│ flatten (\u001B[38;5;33mFlatten\u001B[0m)               │ (\u001B[38;5;45mNone\u001B[0m, \u001B[38;5;34m100352\u001B[0m)         │             \u001B[38;5;34m0\u001B[0m │\n├─────────────────────────────────┼────────────────────────┼───────────────┤\n│ dense (\u001B[38;5;33mDense\u001B[0m)                   │ (\u001B[38;5;45mNone\u001B[0m, \u001B[38;5;34m256\u001B[0m)            │    \u001B[38;5;34m25,690,368\u001B[0m │\n├─────────────────────────────────┼────────────────────────┼───────────────┤\n│ dense_1 (\u001B[38;5;33mDense\u001B[0m)                 │ (\u001B[38;5;45mNone\u001B[0m, \u001B[38;5;34m128\u001B[0m)            │        \u001B[38;5;34m32,896\u001B[0m │\n├─────────────────────────────────┼────────────────────────┼───────────────┤\n│ dense_2 (\u001B[38;5;33mDense\u001B[0m)                 │ (\u001B[38;5;45mNone\u001B[0m, \u001B[38;5;34m10\u001B[0m)             │         \u001B[38;5;34m1,290\u001B[0m │\n└─────────────────────────────────┴────────────────────────┴───────────────┘\n",
      "text/html": "<pre style=\"white-space:pre;overflow-x:auto;line-height:normal;font-family:Menlo,'DejaVu Sans Mono',consolas,'Courier New',monospace\">┏━━━━━━━━━━━━━━━━━━━━━━━━━━━━━━━━━┳━━━━━━━━━━━━━━━━━━━━━━━━┳━━━━━━━━━━━━━━━┓\n┃<span style=\"font-weight: bold\"> Layer (type)                    </span>┃<span style=\"font-weight: bold\"> Output Shape           </span>┃<span style=\"font-weight: bold\">       Param # </span>┃\n┡━━━━━━━━━━━━━━━━━━━━━━━━━━━━━━━━━╇━━━━━━━━━━━━━━━━━━━━━━━━╇━━━━━━━━━━━━━━━┩\n│ conv2d (<span style=\"color: #0087ff; text-decoration-color: #0087ff\">Conv2D</span>)                 │ (<span style=\"color: #00d7ff; text-decoration-color: #00d7ff\">None</span>, <span style=\"color: #00af00; text-decoration-color: #00af00\">224</span>, <span style=\"color: #00af00; text-decoration-color: #00af00\">224</span>, <span style=\"color: #00af00; text-decoration-color: #00af00\">32</span>)   │           <span style=\"color: #00af00; text-decoration-color: #00af00\">896</span> │\n├─────────────────────────────────┼────────────────────────┼───────────────┤\n│ max_pooling2d (<span style=\"color: #0087ff; text-decoration-color: #0087ff\">MaxPooling2D</span>)    │ (<span style=\"color: #00d7ff; text-decoration-color: #00d7ff\">None</span>, <span style=\"color: #00af00; text-decoration-color: #00af00\">112</span>, <span style=\"color: #00af00; text-decoration-color: #00af00\">112</span>, <span style=\"color: #00af00; text-decoration-color: #00af00\">32</span>)   │             <span style=\"color: #00af00; text-decoration-color: #00af00\">0</span> │\n├─────────────────────────────────┼────────────────────────┼───────────────┤\n│ conv2d_1 (<span style=\"color: #0087ff; text-decoration-color: #0087ff\">Conv2D</span>)               │ (<span style=\"color: #00d7ff; text-decoration-color: #00d7ff\">None</span>, <span style=\"color: #00af00; text-decoration-color: #00af00\">112</span>, <span style=\"color: #00af00; text-decoration-color: #00af00\">112</span>, <span style=\"color: #00af00; text-decoration-color: #00af00\">64</span>)   │        <span style=\"color: #00af00; text-decoration-color: #00af00\">18,496</span> │\n├─────────────────────────────────┼────────────────────────┼───────────────┤\n│ max_pooling2d_1 (<span style=\"color: #0087ff; text-decoration-color: #0087ff\">MaxPooling2D</span>)  │ (<span style=\"color: #00d7ff; text-decoration-color: #00d7ff\">None</span>, <span style=\"color: #00af00; text-decoration-color: #00af00\">56</span>, <span style=\"color: #00af00; text-decoration-color: #00af00\">56</span>, <span style=\"color: #00af00; text-decoration-color: #00af00\">64</span>)     │             <span style=\"color: #00af00; text-decoration-color: #00af00\">0</span> │\n├─────────────────────────────────┼────────────────────────┼───────────────┤\n│ conv2d_2 (<span style=\"color: #0087ff; text-decoration-color: #0087ff\">Conv2D</span>)               │ (<span style=\"color: #00d7ff; text-decoration-color: #00d7ff\">None</span>, <span style=\"color: #00af00; text-decoration-color: #00af00\">56</span>, <span style=\"color: #00af00; text-decoration-color: #00af00\">56</span>, <span style=\"color: #00af00; text-decoration-color: #00af00\">128</span>)    │        <span style=\"color: #00af00; text-decoration-color: #00af00\">73,856</span> │\n├─────────────────────────────────┼────────────────────────┼───────────────┤\n│ max_pooling2d_2 (<span style=\"color: #0087ff; text-decoration-color: #0087ff\">MaxPooling2D</span>)  │ (<span style=\"color: #00d7ff; text-decoration-color: #00d7ff\">None</span>, <span style=\"color: #00af00; text-decoration-color: #00af00\">28</span>, <span style=\"color: #00af00; text-decoration-color: #00af00\">28</span>, <span style=\"color: #00af00; text-decoration-color: #00af00\">128</span>)    │             <span style=\"color: #00af00; text-decoration-color: #00af00\">0</span> │\n├─────────────────────────────────┼────────────────────────┼───────────────┤\n│ flatten (<span style=\"color: #0087ff; text-decoration-color: #0087ff\">Flatten</span>)               │ (<span style=\"color: #00d7ff; text-decoration-color: #00d7ff\">None</span>, <span style=\"color: #00af00; text-decoration-color: #00af00\">100352</span>)         │             <span style=\"color: #00af00; text-decoration-color: #00af00\">0</span> │\n├─────────────────────────────────┼────────────────────────┼───────────────┤\n│ dense (<span style=\"color: #0087ff; text-decoration-color: #0087ff\">Dense</span>)                   │ (<span style=\"color: #00d7ff; text-decoration-color: #00d7ff\">None</span>, <span style=\"color: #00af00; text-decoration-color: #00af00\">256</span>)            │    <span style=\"color: #00af00; text-decoration-color: #00af00\">25,690,368</span> │\n├─────────────────────────────────┼────────────────────────┼───────────────┤\n│ dense_1 (<span style=\"color: #0087ff; text-decoration-color: #0087ff\">Dense</span>)                 │ (<span style=\"color: #00d7ff; text-decoration-color: #00d7ff\">None</span>, <span style=\"color: #00af00; text-decoration-color: #00af00\">128</span>)            │        <span style=\"color: #00af00; text-decoration-color: #00af00\">32,896</span> │\n├─────────────────────────────────┼────────────────────────┼───────────────┤\n│ dense_2 (<span style=\"color: #0087ff; text-decoration-color: #0087ff\">Dense</span>)                 │ (<span style=\"color: #00d7ff; text-decoration-color: #00d7ff\">None</span>, <span style=\"color: #00af00; text-decoration-color: #00af00\">10</span>)             │         <span style=\"color: #00af00; text-decoration-color: #00af00\">1,290</span> │\n└─────────────────────────────────┴────────────────────────┴───────────────┘\n</pre>\n"
     },
     "metadata": {},
     "output_type": "display_data"
    },
    {
     "data": {
      "text/plain": "\u001B[1m Total params: \u001B[0m\u001B[38;5;34m25,817,802\u001B[0m (98.49 MB)\n",
      "text/html": "<pre style=\"white-space:pre;overflow-x:auto;line-height:normal;font-family:Menlo,'DejaVu Sans Mono',consolas,'Courier New',monospace\"><span style=\"font-weight: bold\"> Total params: </span><span style=\"color: #00af00; text-decoration-color: #00af00\">25,817,802</span> (98.49 MB)\n</pre>\n"
     },
     "metadata": {},
     "output_type": "display_data"
    },
    {
     "data": {
      "text/plain": "\u001B[1m Trainable params: \u001B[0m\u001B[38;5;34m25,817,802\u001B[0m (98.49 MB)\n",
      "text/html": "<pre style=\"white-space:pre;overflow-x:auto;line-height:normal;font-family:Menlo,'DejaVu Sans Mono',consolas,'Courier New',monospace\"><span style=\"font-weight: bold\"> Trainable params: </span><span style=\"color: #00af00; text-decoration-color: #00af00\">25,817,802</span> (98.49 MB)\n</pre>\n"
     },
     "metadata": {},
     "output_type": "display_data"
    },
    {
     "data": {
      "text/plain": "\u001B[1m Non-trainable params: \u001B[0m\u001B[38;5;34m0\u001B[0m (0.00 B)\n",
      "text/html": "<pre style=\"white-space:pre;overflow-x:auto;line-height:normal;font-family:Menlo,'DejaVu Sans Mono',consolas,'Courier New',monospace\"><span style=\"font-weight: bold\"> Non-trainable params: </span><span style=\"color: #00af00; text-decoration-color: #00af00\">0</span> (0.00 B)\n</pre>\n"
     },
     "metadata": {},
     "output_type": "display_data"
    }
   ],
   "source": [
    "model = Sequential([\n",
    "    Conv2D(32, (3, 3), activation='relu', padding='same', input_shape=(224, 224, 3)),\n",
    "    MaxPool2D((2, 2), strides=2),\n",
    "    Conv2D(64, (3, 3), activation='relu', padding='same'),\n",
    "    MaxPool2D((2, 2), strides=2),\n",
    "    Conv2D(128, (3, 3), activation='relu', padding='same'),\n",
    "    MaxPool2D((2, 2), strides=2),\n",
    "    Flatten(),  # Use a reasonable number of neurons\n",
    "    Dense(256, activation='tanh'),\n",
    "    Dense(128, activation='tanh'),\n",
    "    Dense(10, activation='softmax')\n",
    "])\n",
    "model.summary()\n",
    "\n",
    "model.compile(optimizer=Adam(learning_rate=0.0001), loss='categorical_crossentropy', metrics=['accuracy'])"
   ],
   "metadata": {
    "collapsed": false,
    "ExecuteTime": {
     "end_time": "2024-12-13T00:10:59.964526600Z",
     "start_time": "2024-12-13T00:10:59.879532600Z"
    }
   }
  },
  {
   "cell_type": "code",
   "execution_count": null,
   "outputs": [],
   "source": [
    "# # save the model\n",
    "# model.save(r'C:\\Users\\c3034339\\OneDrive - Sheffield Hallam University\\Desktop\\Project & Dissertation\\8. Saved models\\model2811_361_216_d130m.h5')"
   ],
   "metadata": {
    "collapsed": false
   }
  },
  {
   "cell_type": "code",
   "execution_count": 10,
   "outputs": [
    {
     "name": "stdout",
     "output_type": "stream",
     "text": [
      "Epoch 1/15\n"
     ]
    },
    {
     "name": "stderr",
     "output_type": "stream",
     "text": [
      "C:\\Users\\Admin\\PycharmProjects\\pythonProject_1\\venv\\lib\\site-packages\\keras\\src\\trainers\\data_adapters\\py_dataset_adapter.py:121: UserWarning: Your `PyDataset` class should call `super().__init__(**kwargs)` in its constructor. `**kwargs` can include `workers`, `use_multiprocessing`, `max_queue_size`. Do not pass these arguments to `fit()`, as they will be ignored.\n",
      "  self._warn_if_super_not_called()\n"
     ]
    },
    {
     "name": "stdout",
     "output_type": "stream",
     "text": [
      "57/57 - 28s - 490ms/step - accuracy: 0.1100 - loss: 2.4569 - val_accuracy: 0.2300 - val_loss: 2.1817\n",
      "Epoch 2/15\n",
      "57/57 - 22s - 389ms/step - accuracy: 0.3367 - loss: 1.9023 - val_accuracy: 0.4800 - val_loss: 1.5914\n",
      "Epoch 3/15\n",
      "57/57 - 22s - 389ms/step - accuracy: 0.5789 - loss: 1.3123 - val_accuracy: 0.6250 - val_loss: 1.1682\n",
      "Epoch 4/15\n",
      "57/57 - 24s - 414ms/step - accuracy: 0.7711 - loss: 0.8332 - val_accuracy: 0.7100 - val_loss: 0.9240\n",
      "Epoch 5/15\n",
      "57/57 - 22s - 392ms/step - accuracy: 0.8433 - loss: 0.6084 - val_accuracy: 0.8200 - val_loss: 0.6460\n",
      "Epoch 6/15\n",
      "57/57 - 22s - 387ms/step - accuracy: 0.9056 - loss: 0.4325 - val_accuracy: 0.8450 - val_loss: 0.5661\n",
      "Epoch 7/15\n",
      "57/57 - 22s - 384ms/step - accuracy: 0.9400 - loss: 0.3124 - val_accuracy: 0.8250 - val_loss: 0.5649\n",
      "Epoch 8/15\n",
      "57/57 - 22s - 386ms/step - accuracy: 0.9556 - loss: 0.2481 - val_accuracy: 0.9450 - val_loss: 0.2808\n",
      "Epoch 9/15\n",
      "57/57 - 22s - 386ms/step - accuracy: 0.9844 - loss: 0.1336 - val_accuracy: 0.9300 - val_loss: 0.2835\n",
      "Epoch 10/15\n",
      "57/57 - 22s - 386ms/step - accuracy: 0.9867 - loss: 0.1096 - val_accuracy: 0.9350 - val_loss: 0.2158\n",
      "Epoch 11/15\n",
      "57/57 - 22s - 388ms/step - accuracy: 0.9900 - loss: 0.0866 - val_accuracy: 0.9600 - val_loss: 0.1727\n",
      "Epoch 12/15\n",
      "57/57 - 22s - 384ms/step - accuracy: 1.0000 - loss: 0.0503 - val_accuracy: 0.9750 - val_loss: 0.1355\n",
      "Epoch 13/15\n",
      "57/57 - 22s - 385ms/step - accuracy: 1.0000 - loss: 0.0313 - val_accuracy: 0.9550 - val_loss: 0.1229\n",
      "Epoch 14/15\n",
      "57/57 - 22s - 386ms/step - accuracy: 1.0000 - loss: 0.0224 - val_accuracy: 0.9850 - val_loss: 0.1007\n",
      "Epoch 15/15\n",
      "57/57 - 22s - 384ms/step - accuracy: 1.0000 - loss: 0.0168 - val_accuracy: 0.9800 - val_loss: 0.0956\n"
     ]
    }
   ],
   "source": [
    "# train the model\n",
    "history = model.fit(x=train, validation_data=valid, epochs=15, verbose=2)"
   ],
   "metadata": {
    "collapsed": false,
    "ExecuteTime": {
     "end_time": "2024-12-13T00:19:24.065312Z",
     "start_time": "2024-12-13T00:13:45.648688800Z"
    }
   }
  },
  {
   "cell_type": "code",
   "execution_count": 34,
   "outputs": [
    {
     "name": "stdout",
     "output_type": "stream",
     "text": [
      "\u001B[1m13/13\u001B[0m \u001B[32m━━━━━━━━━━━━━━━━━━━━\u001B[0m\u001B[37m\u001B[0m \u001B[1m1s\u001B[0m 64ms/step - accuracy: 0.9878 - loss: 0.1093\n",
      "Test Loss: 0.12276214361190796\n",
      "Test Accuracy: 0.9850000143051147\n"
     ]
    }
   ],
   "source": [
    "# Evaluate the model on the test data generator\n",
    "results = model.evaluate(test, verbose=1)\n",
    "\n",
    "# Print the results\n",
    "print(\"Test Loss:\", results[0])\n",
    "print(\"Test Accuracy:\", results[1])"
   ],
   "metadata": {
    "collapsed": false,
    "ExecuteTime": {
     "end_time": "2024-12-13T00:58:22.628494100Z",
     "start_time": "2024-12-13T00:58:21.659596100Z"
    }
   }
  },
  {
   "cell_type": "code",
   "execution_count": 20,
   "outputs": [
    {
     "name": "stderr",
     "output_type": "stream",
     "text": [
      "WARNING:absl:Compiled the loaded model, but the compiled metrics have yet to be built. `model.compile_metrics` will be empty until you train or evaluate the model.\n"
     ]
    },
    {
     "data": {
      "text/plain": "\u001B[1mModel: \"sequential_2\"\u001B[0m\n",
      "text/html": "<pre style=\"white-space:pre;overflow-x:auto;line-height:normal;font-family:Menlo,'DejaVu Sans Mono',consolas,'Courier New',monospace\"><span style=\"font-weight: bold\">Model: \"sequential_2\"</span>\n</pre>\n"
     },
     "metadata": {},
     "output_type": "display_data"
    },
    {
     "data": {
      "text/plain": "┏━━━━━━━━━━━━━━━━━━━━━━━━━━━━━━━━━┳━━━━━━━━━━━━━━━━━━━━━━━━┳━━━━━━━━━━━━━━━┓\n┃\u001B[1m \u001B[0m\u001B[1mLayer (type)                   \u001B[0m\u001B[1m \u001B[0m┃\u001B[1m \u001B[0m\u001B[1mOutput Shape          \u001B[0m\u001B[1m \u001B[0m┃\u001B[1m \u001B[0m\u001B[1m      Param #\u001B[0m\u001B[1m \u001B[0m┃\n┡━━━━━━━━━━━━━━━━━━━━━━━━━━━━━━━━━╇━━━━━━━━━━━━━━━━━━━━━━━━╇━━━━━━━━━━━━━━━┩\n│ conv2d_4 (\u001B[38;5;33mConv2D\u001B[0m)               │ (\u001B[38;5;45mNone\u001B[0m, \u001B[38;5;34m224\u001B[0m, \u001B[38;5;34m224\u001B[0m, \u001B[38;5;34m32\u001B[0m)   │           \u001B[38;5;34m896\u001B[0m │\n├─────────────────────────────────┼────────────────────────┼───────────────┤\n│ max_pooling2d_4 (\u001B[38;5;33mMaxPooling2D\u001B[0m)  │ (\u001B[38;5;45mNone\u001B[0m, \u001B[38;5;34m112\u001B[0m, \u001B[38;5;34m112\u001B[0m, \u001B[38;5;34m32\u001B[0m)   │             \u001B[38;5;34m0\u001B[0m │\n├─────────────────────────────────┼────────────────────────┼───────────────┤\n│ conv2d_5 (\u001B[38;5;33mConv2D\u001B[0m)               │ (\u001B[38;5;45mNone\u001B[0m, \u001B[38;5;34m112\u001B[0m, \u001B[38;5;34m112\u001B[0m, \u001B[38;5;34m64\u001B[0m)   │        \u001B[38;5;34m18,496\u001B[0m │\n├─────────────────────────────────┼────────────────────────┼───────────────┤\n│ max_pooling2d_5 (\u001B[38;5;33mMaxPooling2D\u001B[0m)  │ (\u001B[38;5;45mNone\u001B[0m, \u001B[38;5;34m56\u001B[0m, \u001B[38;5;34m56\u001B[0m, \u001B[38;5;34m64\u001B[0m)     │             \u001B[38;5;34m0\u001B[0m │\n├─────────────────────────────────┼────────────────────────┼───────────────┤\n│ flatten_2 (\u001B[38;5;33mFlatten\u001B[0m)             │ (\u001B[38;5;45mNone\u001B[0m, \u001B[38;5;34m200704\u001B[0m)         │             \u001B[38;5;34m0\u001B[0m │\n├─────────────────────────────────┼────────────────────────┼───────────────┤\n│ dense_6 (\u001B[38;5;33mDense\u001B[0m)                 │ (\u001B[38;5;45mNone\u001B[0m, \u001B[38;5;34m256\u001B[0m)            │    \u001B[38;5;34m51,380,480\u001B[0m │\n├─────────────────────────────────┼────────────────────────┼───────────────┤\n│ dense_7 (\u001B[38;5;33mDense\u001B[0m)                 │ (\u001B[38;5;45mNone\u001B[0m, \u001B[38;5;34m128\u001B[0m)            │        \u001B[38;5;34m32,896\u001B[0m │\n├─────────────────────────────────┼────────────────────────┼───────────────┤\n│ dense_8 (\u001B[38;5;33mDense\u001B[0m)                 │ (\u001B[38;5;45mNone\u001B[0m, \u001B[38;5;34m10\u001B[0m)             │         \u001B[38;5;34m1,290\u001B[0m │\n└─────────────────────────────────┴────────────────────────┴───────────────┘\n",
      "text/html": "<pre style=\"white-space:pre;overflow-x:auto;line-height:normal;font-family:Menlo,'DejaVu Sans Mono',consolas,'Courier New',monospace\">┏━━━━━━━━━━━━━━━━━━━━━━━━━━━━━━━━━┳━━━━━━━━━━━━━━━━━━━━━━━━┳━━━━━━━━━━━━━━━┓\n┃<span style=\"font-weight: bold\"> Layer (type)                    </span>┃<span style=\"font-weight: bold\"> Output Shape           </span>┃<span style=\"font-weight: bold\">       Param # </span>┃\n┡━━━━━━━━━━━━━━━━━━━━━━━━━━━━━━━━━╇━━━━━━━━━━━━━━━━━━━━━━━━╇━━━━━━━━━━━━━━━┩\n│ conv2d_4 (<span style=\"color: #0087ff; text-decoration-color: #0087ff\">Conv2D</span>)               │ (<span style=\"color: #00d7ff; text-decoration-color: #00d7ff\">None</span>, <span style=\"color: #00af00; text-decoration-color: #00af00\">224</span>, <span style=\"color: #00af00; text-decoration-color: #00af00\">224</span>, <span style=\"color: #00af00; text-decoration-color: #00af00\">32</span>)   │           <span style=\"color: #00af00; text-decoration-color: #00af00\">896</span> │\n├─────────────────────────────────┼────────────────────────┼───────────────┤\n│ max_pooling2d_4 (<span style=\"color: #0087ff; text-decoration-color: #0087ff\">MaxPooling2D</span>)  │ (<span style=\"color: #00d7ff; text-decoration-color: #00d7ff\">None</span>, <span style=\"color: #00af00; text-decoration-color: #00af00\">112</span>, <span style=\"color: #00af00; text-decoration-color: #00af00\">112</span>, <span style=\"color: #00af00; text-decoration-color: #00af00\">32</span>)   │             <span style=\"color: #00af00; text-decoration-color: #00af00\">0</span> │\n├─────────────────────────────────┼────────────────────────┼───────────────┤\n│ conv2d_5 (<span style=\"color: #0087ff; text-decoration-color: #0087ff\">Conv2D</span>)               │ (<span style=\"color: #00d7ff; text-decoration-color: #00d7ff\">None</span>, <span style=\"color: #00af00; text-decoration-color: #00af00\">112</span>, <span style=\"color: #00af00; text-decoration-color: #00af00\">112</span>, <span style=\"color: #00af00; text-decoration-color: #00af00\">64</span>)   │        <span style=\"color: #00af00; text-decoration-color: #00af00\">18,496</span> │\n├─────────────────────────────────┼────────────────────────┼───────────────┤\n│ max_pooling2d_5 (<span style=\"color: #0087ff; text-decoration-color: #0087ff\">MaxPooling2D</span>)  │ (<span style=\"color: #00d7ff; text-decoration-color: #00d7ff\">None</span>, <span style=\"color: #00af00; text-decoration-color: #00af00\">56</span>, <span style=\"color: #00af00; text-decoration-color: #00af00\">56</span>, <span style=\"color: #00af00; text-decoration-color: #00af00\">64</span>)     │             <span style=\"color: #00af00; text-decoration-color: #00af00\">0</span> │\n├─────────────────────────────────┼────────────────────────┼───────────────┤\n│ flatten_2 (<span style=\"color: #0087ff; text-decoration-color: #0087ff\">Flatten</span>)             │ (<span style=\"color: #00d7ff; text-decoration-color: #00d7ff\">None</span>, <span style=\"color: #00af00; text-decoration-color: #00af00\">200704</span>)         │             <span style=\"color: #00af00; text-decoration-color: #00af00\">0</span> │\n├─────────────────────────────────┼────────────────────────┼───────────────┤\n│ dense_6 (<span style=\"color: #0087ff; text-decoration-color: #0087ff\">Dense</span>)                 │ (<span style=\"color: #00d7ff; text-decoration-color: #00d7ff\">None</span>, <span style=\"color: #00af00; text-decoration-color: #00af00\">256</span>)            │    <span style=\"color: #00af00; text-decoration-color: #00af00\">51,380,480</span> │\n├─────────────────────────────────┼────────────────────────┼───────────────┤\n│ dense_7 (<span style=\"color: #0087ff; text-decoration-color: #0087ff\">Dense</span>)                 │ (<span style=\"color: #00d7ff; text-decoration-color: #00d7ff\">None</span>, <span style=\"color: #00af00; text-decoration-color: #00af00\">128</span>)            │        <span style=\"color: #00af00; text-decoration-color: #00af00\">32,896</span> │\n├─────────────────────────────────┼────────────────────────┼───────────────┤\n│ dense_8 (<span style=\"color: #0087ff; text-decoration-color: #0087ff\">Dense</span>)                 │ (<span style=\"color: #00d7ff; text-decoration-color: #00d7ff\">None</span>, <span style=\"color: #00af00; text-decoration-color: #00af00\">10</span>)             │         <span style=\"color: #00af00; text-decoration-color: #00af00\">1,290</span> │\n└─────────────────────────────────┴────────────────────────┴───────────────┘\n</pre>\n"
     },
     "metadata": {},
     "output_type": "display_data"
    },
    {
     "data": {
      "text/plain": "\u001B[1m Total params: \u001B[0m\u001B[38;5;34m51,434,060\u001B[0m (196.21 MB)\n",
      "text/html": "<pre style=\"white-space:pre;overflow-x:auto;line-height:normal;font-family:Menlo,'DejaVu Sans Mono',consolas,'Courier New',monospace\"><span style=\"font-weight: bold\"> Total params: </span><span style=\"color: #00af00; text-decoration-color: #00af00\">51,434,060</span> (196.21 MB)\n</pre>\n"
     },
     "metadata": {},
     "output_type": "display_data"
    },
    {
     "data": {
      "text/plain": "\u001B[1m Trainable params: \u001B[0m\u001B[38;5;34m51,434,058\u001B[0m (196.21 MB)\n",
      "text/html": "<pre style=\"white-space:pre;overflow-x:auto;line-height:normal;font-family:Menlo,'DejaVu Sans Mono',consolas,'Courier New',monospace\"><span style=\"font-weight: bold\"> Trainable params: </span><span style=\"color: #00af00; text-decoration-color: #00af00\">51,434,058</span> (196.21 MB)\n</pre>\n"
     },
     "metadata": {},
     "output_type": "display_data"
    },
    {
     "data": {
      "text/plain": "\u001B[1m Non-trainable params: \u001B[0m\u001B[38;5;34m0\u001B[0m (0.00 B)\n",
      "text/html": "<pre style=\"white-space:pre;overflow-x:auto;line-height:normal;font-family:Menlo,'DejaVu Sans Mono',consolas,'Courier New',monospace\"><span style=\"font-weight: bold\"> Non-trainable params: </span><span style=\"color: #00af00; text-decoration-color: #00af00\">0</span> (0.00 B)\n</pre>\n"
     },
     "metadata": {},
     "output_type": "display_data"
    },
    {
     "data": {
      "text/plain": "\u001B[1m Optimizer params: \u001B[0m\u001B[38;5;34m2\u001B[0m (12.00 B)\n",
      "text/html": "<pre style=\"white-space:pre;overflow-x:auto;line-height:normal;font-family:Menlo,'DejaVu Sans Mono',consolas,'Courier New',monospace\"><span style=\"font-weight: bold\"> Optimizer params: </span><span style=\"color: #00af00; text-decoration-color: #00af00\">2</span> (12.00 B)\n</pre>\n"
     },
     "metadata": {},
     "output_type": "display_data"
    }
   ],
   "source": [
    "# load the model\n",
    "new_model = load_model(r'D:\\src_4_pro_dis_2\\8. Saved models\\lip detection\\model2811_361_21_d130_GOOD.h5')\n",
    "new_model.summary()"
   ],
   "metadata": {
    "collapsed": false,
    "ExecuteTime": {
     "end_time": "2024-12-13T00:36:18.981996700Z",
     "start_time": "2024-12-13T00:36:18.715557Z"
    }
   }
  },
  {
   "cell_type": "code",
   "execution_count": null,
   "outputs": [],
   "source": [
    "# --------------------------------------------------------------------------------------------------------------\n",
    "# ---------------------------------Evaluations for Lip Reading model--------------------------------------------\n",
    "# --------------------------------------------------------------------------------------------------------------"
   ],
   "metadata": {
    "collapsed": false
   }
  },
  {
   "cell_type": "markdown",
   "source": [
    "**Accuracy and Learning Curve**"
   ],
   "metadata": {
    "collapsed": false
   }
  },
  {
   "cell_type": "code",
   "execution_count": 11,
   "outputs": [
    {
     "name": "stdout",
     "output_type": "stream",
     "text": [
      "13/13 - 1s - 115ms/step - accuracy: 0.9900 - loss: 0.0989\n",
      "Test Accuracy: 99.00%\n"
     ]
    }
   ],
   "source": [
    "test_loss, test_accuracy = model.evaluate(test, verbose=2)\n",
    "print(f\"Test Accuracy: {test_accuracy * 100:.2f}%\")"
   ],
   "metadata": {
    "collapsed": false,
    "ExecuteTime": {
     "end_time": "2024-12-13T00:20:08.915245100Z",
     "start_time": "2024-12-13T00:20:07.217644900Z"
    }
   }
  },
  {
   "cell_type": "code",
   "execution_count": 12,
   "outputs": [
    {
     "data": {
      "text/plain": "<Figure size 1200x500 with 1 Axes>",
      "image/png": "[encoded data removed]"
     },
     "metadata": {},
     "output_type": "display_data"
    },
    {
     "data": {
      "text/plain": "<Figure size 1200x500 with 1 Axes>",
      "image/png": "[encoded data removed]"
     },
     "metadata": {},
     "output_type": "display_data"
    }
   ],
   "source": [
    "import matplotlib.pyplot as plt\n",
    "\n",
    "# Plot Training and Validation Accuracy\n",
    "plt.figure(figsize=(12, 5))\n",
    "plt.plot(history.history['accuracy'], label='Training Accuracy')\n",
    "plt.plot(history.history['val_accuracy'], label='Validation Accuracy')\n",
    "plt.xlabel('Epochs')\n",
    "plt.ylabel('Accuracy')\n",
    "plt.title('Training and Validation Accuracy')\n",
    "plt.legend()\n",
    "plt.show()\n",
    "\n",
    "# Plot Training and Validation Loss\n",
    "plt.figure(figsize=(12, 5))\n",
    "plt.plot(history.history['loss'], label='Training Loss')\n",
    "plt.plot(history.history['val_loss'], label='Validation Loss')\n",
    "plt.xlabel('Epochs')\n",
    "plt.ylabel('Loss')\n",
    "plt.title('Training and Validation Loss')\n",
    "plt.legend()\n",
    "plt.show()"
   ],
   "metadata": {
    "collapsed": false,
    "ExecuteTime": {
     "end_time": "2024-12-13T00:20:16.248085200Z",
     "start_time": "2024-12-13T00:20:16.079444900Z"
    }
   }
  },
  {
   "cell_type": "markdown",
   "source": [
    "**Precision, Recall, and F1-Score**"
   ],
   "metadata": {
    "collapsed": false
   }
  },
  {
   "cell_type": "code",
   "execution_count": 27,
   "outputs": [
    {
     "name": "stdout",
     "output_type": "stream",
     "text": [
      "\u001B[1m13/13\u001B[0m \u001B[32m━━━━━━━━━━━━━━━━━━━━\u001B[0m\u001B[37m\u001B[0m \u001B[1m1s\u001B[0m 71ms/step\n",
      "+-------+-----------+--------+----------+---------+\n",
      "| Class | Precision | Recall | F1-Score | Support |\n",
      "+-------+-----------+--------+----------+---------+\n",
      "|  bat  |    0.05   |  0.05  |   0.05   |   20.0  |\n",
      "|  cup  |    0.1    |  0.1   |   0.1    |   20.0  |\n",
      "|  drop |    0.1    |  0.1   |   0.1    |   20.0  |\n",
      "|  eat  |    0.14   |  0.15  |   0.15   |   20.0  |\n",
      "|  fish |    0.15   |  0.15  |   0.15   |   20.0  |\n",
      "|  hot  |    0.05   |  0.05  |   0.05   |   20.0  |\n",
      "|  jump |    0.05   |  0.05  |   0.05   |   20.0  |\n",
      "|  milk |    0.05   |  0.05  |   0.05   |   20.0  |\n",
      "|  pen  |    0.1    |  0.1   |   0.1    |   20.0  |\n",
      "|  red  |    0.0    |  0.0   |   0.0    |   20.0  |\n",
      "+-------+-----------+--------+----------+---------+\n"
     ]
    }
   ],
   "source": [
    "from sklearn.metrics import classification_report\n",
    "from prettytable import PrettyTable\n",
    "import numpy as np\n",
    "\n",
    "# Step 1: Generate Predictions\n",
    "y_pred_prob = model.predict(test)  # Predicted probabilities\n",
    "y_pred = np.argmax(y_pred_prob, axis=1)  # Convert probabilities to class indices\n",
    "\n",
    "# Step 2: Get True Labels\n",
    "y_true = test.classes  # Ground truth labels\n",
    "\n",
    "# Step 3: Generate Classification Report\n",
    "report = classification_report(y_true, y_pred, output_dict=True)\n",
    "\n",
    "# Step 4: Create a PrettyTable\n",
    "table = PrettyTable()\n",
    "table.field_names = [\"Class\", \"Precision\", \"Recall\", \"F1-Score\", \"Support\"]\n",
    "\n",
    "# Map class indices to word classes\n",
    "label_dict = {i: word for i, word in enumerate(word_classes)}\n",
    "\n",
    "# Step 5: Populate the Table\n",
    "for label, metrics in report.items():\n",
    "    if label.isdigit():  # Ensure it's a class label\n",
    "        precision = round(metrics['precision'], 2)\n",
    "        recall = round(metrics['recall'], 2)\n",
    "        f1_score = round(metrics['f1-score'], 2)\n",
    "        support = metrics['support']\n",
    "        table.add_row([label_dict[int(label)], precision, recall, f1_score, support])\n",
    "\n",
    "# Step 6: Print the Table\n",
    "print(table)"
   ],
   "metadata": {
    "collapsed": false,
    "ExecuteTime": {
     "end_time": "2024-12-13T00:45:26.590111700Z",
     "start_time": "2024-12-13T00:45:25.522823900Z"
    }
   }
  },
  {
   "cell_type": "markdown",
   "source": [
    "**Confusion Matrix**"
   ],
   "metadata": {
    "collapsed": false
   }
  },
  {
   "cell_type": "code",
   "execution_count": 30,
   "outputs": [
    {
     "name": "stdout",
     "output_type": "stream",
     "text": [
      "\u001B[1m13/13\u001B[0m \u001B[32m━━━━━━━━━━━━━━━━━━━━\u001B[0m\u001B[37m\u001B[0m \u001B[1m1s\u001B[0m 64ms/step\n"
     ]
    },
    {
     "data": {
      "text/plain": "<Figure size 1000x800 with 2 Axes>",
      "image/png": "[encoded data removed]"
     },
     "metadata": {},
     "output_type": "display_data"
    }
   ],
   "source": [
    "from sklearn.metrics import confusion_matrix\n",
    "import seaborn as sns\n",
    "import matplotlib.pyplot as plt\n",
    "import numpy as np\n",
    "\n",
    "# Step 1: Make Predictions\n",
    "y_pred = new_model.predict(test)  # Predict class probabilities\n",
    "y_pred_classes = np.argmax(y_pred, axis=1)  # Convert probabilities to class indices\n",
    "\n",
    "# Step 2: Get True Labels\n",
    "y_true = test.classes  # Ground truth labels from test dataset\n",
    "\n",
    "# Step 3: Generate Confusion Matrix\n",
    "cm = confusion_matrix(y_true, y_pred_classes)\n",
    "\n",
    "# Step 4: Visualize the Confusion Matrix\n",
    "plt.figure(figsize=(10, 8))\n",
    "sns.heatmap(cm, annot=True, fmt='d', cmap='Blues', xticklabels=word_classes, yticklabels=word_classes)\n",
    "plt.xlabel('Predicted Labels')\n",
    "plt.ylabel('True Labels')\n",
    "plt.title('Confusion Matrix')\n",
    "plt.show()"
   ],
   "metadata": {
    "collapsed": false,
    "ExecuteTime": {
     "end_time": "2024-12-13T00:49:38.420154100Z",
     "start_time": "2024-12-13T00:49:37.310089200Z"
    }
   }
  },
  {
   "cell_type": "markdown",
   "source": [
    "**Word Error Rate (WER)**"
   ],
   "metadata": {
    "collapsed": false
   }
  },
  {
   "cell_type": "code",
   "execution_count": 35,
   "outputs": [
    {
     "name": "stdout",
     "output_type": "stream",
     "text": [
      "\u001B[1m13/13\u001B[0m \u001B[32m━━━━━━━━━━━━━━━━━━━━\u001B[0m\u001B[37m\u001B[0m \u001B[1m1s\u001B[0m 70ms/step\n",
      "Word Error Rate (WER): 0.86\n",
      "Substitutions: 168\n",
      "Deletions: 2\n",
      "Insertions: 2\n",
      "Word Error Rate (WER): 0.86\n"
     ]
    }
   ],
   "source": [
    "import numpy as np\n",
    "from jiwer import wer, compute_measures\n",
    "from sklearn.preprocessing import LabelEncoder\n",
    "\n",
    "# Step 1: Load Test Data\n",
    "# Ensure you have `test` as your test dataset and `word_classes` as your class labels\n",
    "# Example: word_classes = ['bat', 'cup', 'drop', 'eat', 'fish', 'hot', 'jump', 'milk', 'pen', 'red']\n",
    "\n",
    "# Step 2: Generate Predictions\n",
    "y_pred_prob = model.predict(test)  # Predicted probabilities from the model\n",
    "y_pred_classes = np.argmax(y_pred_prob, axis=1)  # Convert probabilities to predicted class indices\n",
    "\n",
    "# Step 3: Convert Predicted Classes to Words\n",
    "predicted_sequences = [\" \".join([word_classes[i] for i in y_pred_classes])]  # Map indices to words\n",
    "\n",
    "# Step 4: Extract Ground Truth Labels\n",
    "y_true = test.classes  # True class indices\n",
    "ground_truth_sequences = [\" \".join([word_classes[i] for i in y_true])]  # Map indices to words\n",
    "\n",
    "# Step 5: Compute Word Error Rate\n",
    "word_error_rate = wer(ground_truth_sequences, predicted_sequences)\n",
    "print(f\"Word Error Rate (WER): {word_error_rate:.2f}\")\n",
    "\n",
    "# Step 6: Detailed WER Analysis (Optional)\n",
    "measures = compute_measures(ground_truth_sequences, predicted_sequences)\n",
    "print(f\"Substitutions: {measures['substitutions']}\")\n",
    "print(f\"Deletions: {measures['deletions']}\")\n",
    "print(f\"Insertions: {measures['insertions']}\")\n",
    "print(f\"Word Error Rate (WER): {measures['wer']:.2f}\")"
   ],
   "metadata": {
    "collapsed": false,
    "ExecuteTime": {
     "end_time": "2024-12-13T00:59:15.552439400Z",
     "start_time": "2024-12-13T00:59:14.541604700Z"
    }
   }
  },
  {
   "cell_type": "markdown",
   "source": [
    "**Per class accuracy**"
   ],
   "metadata": {
    "collapsed": false
   }
  },
  {
   "cell_type": "code",
   "execution_count": 36,
   "outputs": [
    {
     "name": "stdout",
     "output_type": "stream",
     "text": [
      "\u001B[1m13/13\u001B[0m \u001B[32m━━━━━━━━━━━━━━━━━━━━\u001B[0m\u001B[37m\u001B[0m \u001B[1m1s\u001B[0m 72ms/step\n",
      "Class 'bat' Accuracy: 0.00%\n",
      "Class 'cup' Accuracy: 15.00%\n",
      "Class 'drop' Accuracy: 15.00%\n",
      "Class 'eat' Accuracy: 5.00%\n",
      "Class 'fish' Accuracy: 10.00%\n",
      "Class 'hot' Accuracy: 0.00%\n",
      "Class 'jump' Accuracy: 10.00%\n",
      "Class 'milk' Accuracy: 5.00%\n",
      "Class 'pen' Accuracy: 10.00%\n",
      "Class 'red' Accuracy: 10.00%\n"
     ]
    }
   ],
   "source": [
    "import numpy as np\n",
    "from sklearn.metrics import accuracy_score\n",
    "\n",
    "# Step 1: Predict the Classes\n",
    "y_pred_prob = model.predict(test)  # Predicted probabilities\n",
    "y_pred_classes = np.argmax(y_pred_prob, axis=1)  # Convert probabilities to class indices\n",
    "\n",
    "# Step 2: Get True Labels\n",
    "y_true = test.classes  # Ground truth labels\n",
    "\n",
    "# Step 3: Initialize Variables for Per-Class Accuracy\n",
    "class_accuracies = {}\n",
    "for class_idx, class_name in enumerate(word_classes):\n",
    "    # Extract indices of samples belonging to the current class\n",
    "    indices = np.where(y_true == class_idx)[0]\n",
    "\n",
    "    # Calculate accuracy for the current class\n",
    "    true_class_labels = y_true[indices]\n",
    "    predicted_class_labels = y_pred_classes[indices]\n",
    "    class_accuracy = accuracy_score(true_class_labels, predicted_class_labels)\n",
    "\n",
    "    # Store the result\n",
    "    class_accuracies[class_name] = class_accuracy\n",
    "\n",
    "# Step 4: Display Per-Class Accuracy\n",
    "for class_name, accuracy in class_accuracies.items():\n",
    "    print(f\"Class '{class_name}' Accuracy: {accuracy * 100:.2f}%\")"
   ],
   "metadata": {
    "collapsed": false,
    "ExecuteTime": {
     "end_time": "2024-12-13T01:03:56.738753900Z",
     "start_time": "2024-12-13T01:03:55.640575400Z"
    }
   }
  },
  {
   "cell_type": "code",
   "execution_count": 37,
   "outputs": [
    {
     "data": {
      "text/plain": "<Figure size 1000x600 with 1 Axes>",
      "image/png": "[encoded data removed]"
     },
     "metadata": {},
     "output_type": "display_data"
    }
   ],
   "source": [
    "import matplotlib.pyplot as plt\n",
    "\n",
    "# Plot Per-Class Accuracy\n",
    "plt.figure(figsize=(10, 6))\n",
    "plt.bar(class_accuracies.keys(), class_accuracies.values(), color='skyblue')\n",
    "plt.xlabel('Classes')\n",
    "plt.ylabel('Accuracy (%)')\n",
    "plt.title('Per-Class Accuracy')\n",
    "plt.xticks(rotation=45)\n",
    "plt.show()"
   ],
   "metadata": {
    "collapsed": false,
    "ExecuteTime": {
     "end_time": "2024-12-13T01:04:15.833858400Z",
     "start_time": "2024-12-13T01:04:15.743157800Z"
    }
   }
  }
 ],
 "metadata": {
  "kernelspec": {
   "display_name": "Python 3",
   "language": "python",
   "name": "python3"
  },
  "language_info": {
   "codemirror_mode": {
    "name": "ipython",
    "version": 2
   },
   "file_extension": ".py",
   "mimetype": "text/x-python",
   "name": "python",
   "nbconvert_exporter": "python",
   "pygments_lexer": "ipython2",
   "version": "2.7.6"
  }
 },
 "nbformat": 4,
 "nbformat_minor": 0
}
