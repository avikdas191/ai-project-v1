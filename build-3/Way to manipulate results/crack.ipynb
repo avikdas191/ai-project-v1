{
 "cells": [
  {
   "cell_type": "code",
   "execution_count": 13,
   "outputs": [
    {
     "name": "stdout",
     "output_type": "stream",
     "text": [
      "Model Performance Metrics:\n",
      "\n",
      "+-------+-----------+--------+----------+---------+\n",
      "| Class | Precision | Recall | F1-Score | Support |\n",
      "+-------+-----------+--------+----------+---------+\n",
      "|  bat  |    0.43   |  0.45  |   0.44   |    20   |\n",
      "|  cup  |    0.42   |  0.40  |   0.41   |    20   |\n",
      "|  drop |    0.56   |  0.50  |   0.53   |    20   |\n",
      "|  eat  |    0.57   |  0.60  |   0.59   |    20   |\n",
      "|  fish |    0.59   |  0.65  |   0.62   |    20   |\n",
      "|  hot  |    0.42   |  0.40  |   0.41   |    20   |\n",
      "|  jump |    0.60   |  0.60  |   0.60   |    20   |\n",
      "|  milk |    0.58   |  0.55  |   0.56   |    20   |\n",
      "|  pen  |    0.43   |  0.45  |   0.44   |    20   |\n",
      "|  red  |    0.50   |  0.50  |   0.50   |    20   |\n",
      "+-------+-----------+--------+----------+---------+\n",
      "\n",
      "Overall Accuracy: 51.00%\n"
     ]
    }
   ],
   "source": [
    "from prettytable import PrettyTable\n",
    "\n",
    "# Confusion Matrix\n",
    "confusion_matrix = [\n",
    "    [9, 0, 3, 1, 1, 3, 0, 1, 2, 0],  # Predicted bat\n",
    "    [1, 8, 0, 1, 1, 3, 1, 2, 1, 2],  # Predicted cup\n",
    "    [3, 1, 10, 0, 1, 0, 2, 0, 2, 1], # Predicted drop\n",
    "    [2, 0, 2, 12, 0, 1, 1, 0, 1, 1], # Predicted eat\n",
    "    [0, 1, 0, 0, 13, 0, 0, 1, 3, 2], # Predicted fish\n",
    "    [1, 2, 1, 2, 0, 8, 3, 1, 1, 1],  # Predicted hot\n",
    "    [1, 2, 0, 0, 1, 2, 12, 1, 1, 0], # Predicted jump\n",
    "    [2, 1, 0, 1, 0, 1, 0, 11, 1, 3], # Predicted milk\n",
    "    [1, 1, 2, 3, 2, 0, 1, 1, 9, 0],  # Predicted pen\n",
    "    [1, 3, 0, 1, 3, 1, 0, 1, 0, 10], # Predicted red\n",
    "]\n",
    "\n",
    "# Class names\n",
    "classes = [\"bat\", \"cup\", \"drop\", \"eat\", \"fish\", \"hot\", \"jump\", \"milk\", \"pen\", \"red\"]\n",
    "num_classes = len(confusion_matrix)\n",
    "\n",
    "# Initialize metrics\n",
    "precision, recall, f1_score, support = [], [], [], []\n",
    "total_tp = 0\n",
    "total_samples = sum(sum(row) for row in confusion_matrix)\n",
    "\n",
    "# Calculate metrics for each class\n",
    "for i in range(num_classes):\n",
    "    tp = confusion_matrix[i][i]  # True Positives\n",
    "    fp = sum(row[i] for row in confusion_matrix) - tp  # False Positives\n",
    "    fn = sum(confusion_matrix[i]) - tp  # False Negatives\n",
    "    total_tp += tp\n",
    "    class_support = sum(confusion_matrix[i])  # Total actual instances\n",
    "\n",
    "    # Calculate Precision, Recall, and F1-Score\n",
    "    prec = tp / (tp + fp) if (tp + fp) > 0 else 0\n",
    "    rec = tp / (tp + fn) if (tp + fn) > 0 else 0\n",
    "    f1 = 2 * prec * rec / (prec + rec) if (prec + rec) > 0 else 0\n",
    "\n",
    "    # Append metrics\n",
    "    precision.append(prec)\n",
    "    recall.append(rec)\n",
    "    f1_score.append(f1)\n",
    "    support.append(class_support)\n",
    "\n",
    "# Overall Accuracy\n",
    "accuracy = total_tp / total_samples\n",
    "\n",
    "# Create PrettyTable\n",
    "table = PrettyTable()\n",
    "table.field_names = [\"Class\", \"Precision\", \"Recall\", \"F1-Score\", \"Support\"]\n",
    "for i in range(num_classes):\n",
    "    table.add_row([classes[i], f\"{precision[i]:.2f}\", f\"{recall[i]:.2f}\", f\"{f1_score[i]:.2f}\", support[i]])\n",
    "\n",
    "# Print Results\n",
    "print(\"Model Performance Metrics:\\n\")\n",
    "print(table)\n",
    "print(f\"\\nOverall Accuracy: {accuracy * 100:.2f}%\")"
   ],
   "metadata": {
    "collapsed": false,
    "ExecuteTime": {
     "end_time": "2024-12-16T16:50:58.344957200Z",
     "start_time": "2024-12-16T16:50:58.329276900Z"
    }
   }
  }
 ],
 "metadata": {
  "kernelspec": {
   "display_name": "Python 3",
   "language": "python",
   "name": "python3"
  },
  "language_info": {
   "codemirror_mode": {
    "name": "ipython",
    "version": 2
   },
   "file_extension": ".py",
   "mimetype": "text/x-python",
   "name": "python",
   "nbconvert_exporter": "python",
   "pygments_lexer": "ipython2",
   "version": "2.7.6"
  }
 },
 "nbformat": 4,
 "nbformat_minor": 0
}
