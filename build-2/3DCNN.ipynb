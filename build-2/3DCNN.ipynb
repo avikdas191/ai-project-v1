{
 "cells": [
  {
   "cell_type": "code",
   "execution_count": 1,
   "metadata": {
    "collapsed": true,
    "ExecuteTime": {
     "end_time": "2024-11-07T14:21:35.944356300Z",
     "start_time": "2024-11-07T14:21:20.589394200Z"
    }
   },
   "outputs": [],
   "source": [
    "import numpy as np\n",
    "import os\n",
    "import keras as ks\n",
    "import matplotlib.pyplot as plt\n",
    "from sklearn.model_selection import train_test_split\n",
    "import gc\n",
    "from sklearn.metrics import classification_report, balanced_accuracy_score\n",
    "from sklearn.metrics import roc_curve, auc\n",
    "from sklearn.preprocessing import label_binarize\n",
    "from itertools import cycle\n",
    "from sklearn.preprocessing import LabelEncoder\n",
    "import sklearn\n",
    "import seaborn as sns\n",
    "import tensorflow as tf\n",
    "from keras import regularizers\n",
    "from prettytable import PrettyTable"
   ]
  },
  {
   "cell_type": "code",
   "execution_count": 2,
   "outputs": [],
   "source": [
    "Conv3D = ks.layers.Conv3D\n",
    "MaxPooling3D = ks.layers.MaxPooling3D\n",
    "Dense = ks.layers.Dense\n",
    "Dropout = ks.layers.Dropout\n",
    "Flatten = ks.layers.Flatten\n",
    "Sequential = ks.models.Sequential\n",
    "Activation = ks.layers.Activation\n",
    "ZeroPadding3D = ks.layers.ZeroPadding3D\n",
    "TimeDistributed = ks.layers.TimeDistributed\n",
    "LSTM = ks.layers.LSTM\n",
    "GRU = ks.layers.GRU\n",
    "Reshape = ks.layers.Reshape\n",
    "plot_model = ks.utils.plot_model"
   ],
   "metadata": {
    "collapsed": false,
    "ExecuteTime": {
     "end_time": "2024-11-07T14:21:35.960189400Z",
     "start_time": "2024-11-07T14:21:35.944356300Z"
    }
   }
  },
  {
   "cell_type": "code",
   "execution_count": 18,
   "outputs": [
    {
     "name": "stdout",
     "output_type": "stream",
     "text": [
      "Processing folder: D:/PycharmProjects/pro_dis_2/collected_data/complete_datasets_crop_six\\bat_1\n",
      "Processing folder: D:/PycharmProjects/pro_dis_2/collected_data/complete_datasets_crop_six\\bat_11\n",
      "Processing folder: D:/PycharmProjects/pro_dis_2/collected_data/complete_datasets_crop_six\\bat_12\n",
      "Processing folder: D:/PycharmProjects/pro_dis_2/collected_data/complete_datasets_crop_six\\bat_13\n",
      "Processing folder: D:/PycharmProjects/pro_dis_2/collected_data/complete_datasets_crop_six\\bat_2\n",
      "Processing folder: D:/PycharmProjects/pro_dis_2/collected_data/complete_datasets_crop_six\\bat_3\n",
      "Processing folder: D:/PycharmProjects/pro_dis_2/collected_data/complete_datasets_crop_six\\big_1\n",
      "Processing folder: D:/PycharmProjects/pro_dis_2/collected_data/complete_datasets_crop_six\\big_11\n",
      "Processing folder: D:/PycharmProjects/pro_dis_2/collected_data/complete_datasets_crop_six\\big_12\n",
      "Processing folder: D:/PycharmProjects/pro_dis_2/collected_data/complete_datasets_crop_six\\big_13\n",
      "Processing folder: D:/PycharmProjects/pro_dis_2/collected_data/complete_datasets_crop_six\\big_2\n",
      "Processing folder: D:/PycharmProjects/pro_dis_2/collected_data/complete_datasets_crop_six\\big_3\n",
      "Processing folder: D:/PycharmProjects/pro_dis_2/collected_data/complete_datasets_crop_six\\book_1\n",
      "Processing folder: D:/PycharmProjects/pro_dis_2/collected_data/complete_datasets_crop_six\\book_11\n",
      "Processing folder: D:/PycharmProjects/pro_dis_2/collected_data/complete_datasets_crop_six\\book_12\n",
      "Processing folder: D:/PycharmProjects/pro_dis_2/collected_data/complete_datasets_crop_six\\book_13\n",
      "Processing folder: D:/PycharmProjects/pro_dis_2/collected_data/complete_datasets_crop_six\\book_2\n",
      "Processing folder: D:/PycharmProjects/pro_dis_2/collected_data/complete_datasets_crop_six\\book_3\n",
      "Processing folder: D:/PycharmProjects/pro_dis_2/collected_data/complete_datasets_crop_six\\car_1\n",
      "Processing folder: D:/PycharmProjects/pro_dis_2/collected_data/complete_datasets_crop_six\\car_11\n",
      "Processing folder: D:/PycharmProjects/pro_dis_2/collected_data/complete_datasets_crop_six\\car_12\n",
      "Processing folder: D:/PycharmProjects/pro_dis_2/collected_data/complete_datasets_crop_six\\car_13\n",
      "Processing folder: D:/PycharmProjects/pro_dis_2/collected_data/complete_datasets_crop_six\\car_2\n",
      "Processing folder: D:/PycharmProjects/pro_dis_2/collected_data/complete_datasets_crop_six\\car_3\n",
      "Processing folder: D:/PycharmProjects/pro_dis_2/collected_data/complete_datasets_crop_six\\cat_1\n",
      "Processing folder: D:/PycharmProjects/pro_dis_2/collected_data/complete_datasets_crop_six\\cat_11\n",
      "Processing folder: D:/PycharmProjects/pro_dis_2/collected_data/complete_datasets_crop_six\\cat_12\n",
      "Processing folder: D:/PycharmProjects/pro_dis_2/collected_data/complete_datasets_crop_six\\cat_13\n",
      "Processing folder: D:/PycharmProjects/pro_dis_2/collected_data/complete_datasets_crop_six\\cat_2\n",
      "Processing folder: D:/PycharmProjects/pro_dis_2/collected_data/complete_datasets_crop_six\\cat_3\n",
      "Processing folder: D:/PycharmProjects/pro_dis_2/collected_data/complete_datasets_crop_six\\cup_1\n",
      "Processing folder: D:/PycharmProjects/pro_dis_2/collected_data/complete_datasets_crop_six\\cup_11\n",
      "Processing folder: D:/PycharmProjects/pro_dis_2/collected_data/complete_datasets_crop_six\\cup_12\n",
      "Processing folder: D:/PycharmProjects/pro_dis_2/collected_data/complete_datasets_crop_six\\cup_13\n",
      "Processing folder: D:/PycharmProjects/pro_dis_2/collected_data/complete_datasets_crop_six\\cup_2\n",
      "Processing folder: D:/PycharmProjects/pro_dis_2/collected_data/complete_datasets_crop_six\\cup_3\n",
      "Processing folder: D:/PycharmProjects/pro_dis_2/collected_data/complete_datasets_crop_six\\dog_1\n",
      "Processing folder: D:/PycharmProjects/pro_dis_2/collected_data/complete_datasets_crop_six\\dog_11\n",
      "Processing folder: D:/PycharmProjects/pro_dis_2/collected_data/complete_datasets_crop_six\\dog_12\n",
      "Processing folder: D:/PycharmProjects/pro_dis_2/collected_data/complete_datasets_crop_six\\dog_13\n",
      "Processing folder: D:/PycharmProjects/pro_dis_2/collected_data/complete_datasets_crop_six\\dog_2\n",
      "Processing folder: D:/PycharmProjects/pro_dis_2/collected_data/complete_datasets_crop_six\\dog_3\n",
      "Processing folder: D:/PycharmProjects/pro_dis_2/collected_data/complete_datasets_crop_six\\drop_1\n",
      "Processing folder: D:/PycharmProjects/pro_dis_2/collected_data/complete_datasets_crop_six\\drop_11\n",
      "Processing folder: D:/PycharmProjects/pro_dis_2/collected_data/complete_datasets_crop_six\\drop_12\n",
      "Processing folder: D:/PycharmProjects/pro_dis_2/collected_data/complete_datasets_crop_six\\drop_13\n",
      "Processing folder: D:/PycharmProjects/pro_dis_2/collected_data/complete_datasets_crop_six\\drop_2\n",
      "Processing folder: D:/PycharmProjects/pro_dis_2/collected_data/complete_datasets_crop_six\\drop_3\n",
      "Processing folder: D:/PycharmProjects/pro_dis_2/collected_data/complete_datasets_crop_six\\eat_1\n",
      "Processing folder: D:/PycharmProjects/pro_dis_2/collected_data/complete_datasets_crop_six\\eat_11\n",
      "Processing folder: D:/PycharmProjects/pro_dis_2/collected_data/complete_datasets_crop_six\\eat_12\n",
      "Processing folder: D:/PycharmProjects/pro_dis_2/collected_data/complete_datasets_crop_six\\eat_13\n",
      "Processing folder: D:/PycharmProjects/pro_dis_2/collected_data/complete_datasets_crop_six\\eat_2\n",
      "Processing folder: D:/PycharmProjects/pro_dis_2/collected_data/complete_datasets_crop_six\\eat_3\n",
      "Processing folder: D:/PycharmProjects/pro_dis_2/collected_data/complete_datasets_crop_six\\fast_1\n",
      "Processing folder: D:/PycharmProjects/pro_dis_2/collected_data/complete_datasets_crop_six\\fast_11\n",
      "Processing folder: D:/PycharmProjects/pro_dis_2/collected_data/complete_datasets_crop_six\\fast_12\n",
      "Processing folder: D:/PycharmProjects/pro_dis_2/collected_data/complete_datasets_crop_six\\fast_13\n",
      "Processing folder: D:/PycharmProjects/pro_dis_2/collected_data/complete_datasets_crop_six\\fast_2\n",
      "Processing folder: D:/PycharmProjects/pro_dis_2/collected_data/complete_datasets_crop_six\\fast_3\n",
      "Processing folder: D:/PycharmProjects/pro_dis_2/collected_data/complete_datasets_crop_six\\fish_1\n",
      "Processing folder: D:/PycharmProjects/pro_dis_2/collected_data/complete_datasets_crop_six\\fish_11\n",
      "Processing folder: D:/PycharmProjects/pro_dis_2/collected_data/complete_datasets_crop_six\\fish_12\n",
      "Processing folder: D:/PycharmProjects/pro_dis_2/collected_data/complete_datasets_crop_six\\fish_13\n",
      "Processing folder: D:/PycharmProjects/pro_dis_2/collected_data/complete_datasets_crop_six\\fish_2\n",
      "Processing folder: D:/PycharmProjects/pro_dis_2/collected_data/complete_datasets_crop_six\\fish_3\n",
      "Processing folder: D:/PycharmProjects/pro_dis_2/collected_data/complete_datasets_crop_six\\fun_1\n",
      "Processing folder: D:/PycharmProjects/pro_dis_2/collected_data/complete_datasets_crop_six\\fun_11\n",
      "Processing folder: D:/PycharmProjects/pro_dis_2/collected_data/complete_datasets_crop_six\\fun_12\n",
      "Processing folder: D:/PycharmProjects/pro_dis_2/collected_data/complete_datasets_crop_six\\fun_13\n",
      "Processing folder: D:/PycharmProjects/pro_dis_2/collected_data/complete_datasets_crop_six\\fun_2\n",
      "Processing folder: D:/PycharmProjects/pro_dis_2/collected_data/complete_datasets_crop_six\\fun_3\n",
      "Processing folder: D:/PycharmProjects/pro_dis_2/collected_data/complete_datasets_crop_six\\go_1\n",
      "Processing folder: D:/PycharmProjects/pro_dis_2/collected_data/complete_datasets_crop_six\\go_11\n",
      "Processing folder: D:/PycharmProjects/pro_dis_2/collected_data/complete_datasets_crop_six\\go_12\n",
      "Processing folder: D:/PycharmProjects/pro_dis_2/collected_data/complete_datasets_crop_six\\go_13\n",
      "Processing folder: D:/PycharmProjects/pro_dis_2/collected_data/complete_datasets_crop_six\\go_2\n",
      "Processing folder: D:/PycharmProjects/pro_dis_2/collected_data/complete_datasets_crop_six\\go_3\n",
      "Processing folder: D:/PycharmProjects/pro_dis_2/collected_data/complete_datasets_crop_six\\hat_1\n",
      "Processing folder: D:/PycharmProjects/pro_dis_2/collected_data/complete_datasets_crop_six\\hat_11\n",
      "Processing folder: D:/PycharmProjects/pro_dis_2/collected_data/complete_datasets_crop_six\\hat_12\n",
      "Processing folder: D:/PycharmProjects/pro_dis_2/collected_data/complete_datasets_crop_six\\hat_13\n",
      "Processing folder: D:/PycharmProjects/pro_dis_2/collected_data/complete_datasets_crop_six\\hat_2\n",
      "Processing folder: D:/PycharmProjects/pro_dis_2/collected_data/complete_datasets_crop_six\\hat_3\n",
      "Processing folder: D:/PycharmProjects/pro_dis_2/collected_data/complete_datasets_crop_six\\hot_1\n",
      "Processing folder: D:/PycharmProjects/pro_dis_2/collected_data/complete_datasets_crop_six\\hot_11\n",
      "Processing folder: D:/PycharmProjects/pro_dis_2/collected_data/complete_datasets_crop_six\\hot_12\n",
      "Processing folder: D:/PycharmProjects/pro_dis_2/collected_data/complete_datasets_crop_six\\hot_13\n",
      "Processing folder: D:/PycharmProjects/pro_dis_2/collected_data/complete_datasets_crop_six\\hot_2\n",
      "Processing folder: D:/PycharmProjects/pro_dis_2/collected_data/complete_datasets_crop_six\\hot_3\n",
      "Processing folder: D:/PycharmProjects/pro_dis_2/collected_data/complete_datasets_crop_six\\jump_1\n",
      "Processing folder: D:/PycharmProjects/pro_dis_2/collected_data/complete_datasets_crop_six\\jump_11\n",
      "Processing folder: D:/PycharmProjects/pro_dis_2/collected_data/complete_datasets_crop_six\\jump_12\n",
      "Processing folder: D:/PycharmProjects/pro_dis_2/collected_data/complete_datasets_crop_six\\jump_13\n",
      "Processing folder: D:/PycharmProjects/pro_dis_2/collected_data/complete_datasets_crop_six\\jump_2\n",
      "Processing folder: D:/PycharmProjects/pro_dis_2/collected_data/complete_datasets_crop_six\\jump_3\n",
      "Processing folder: D:/PycharmProjects/pro_dis_2/collected_data/complete_datasets_crop_six\\kick_1\n",
      "Processing folder: D:/PycharmProjects/pro_dis_2/collected_data/complete_datasets_crop_six\\kick_11\n",
      "Processing folder: D:/PycharmProjects/pro_dis_2/collected_data/complete_datasets_crop_six\\kick_12\n",
      "Processing folder: D:/PycharmProjects/pro_dis_2/collected_data/complete_datasets_crop_six\\kick_13\n",
      "Processing folder: D:/PycharmProjects/pro_dis_2/collected_data/complete_datasets_crop_six\\kick_2\n",
      "Processing folder: D:/PycharmProjects/pro_dis_2/collected_data/complete_datasets_crop_six\\kick_3\n",
      "Processing folder: D:/PycharmProjects/pro_dis_2/collected_data/complete_datasets_crop_six\\leg_1\n",
      "Processing folder: D:/PycharmProjects/pro_dis_2/collected_data/complete_datasets_crop_six\\leg_11\n",
      "Processing folder: D:/PycharmProjects/pro_dis_2/collected_data/complete_datasets_crop_six\\leg_12\n",
      "Processing folder: D:/PycharmProjects/pro_dis_2/collected_data/complete_datasets_crop_six\\leg_13\n",
      "Processing folder: D:/PycharmProjects/pro_dis_2/collected_data/complete_datasets_crop_six\\leg_2\n",
      "Processing folder: D:/PycharmProjects/pro_dis_2/collected_data/complete_datasets_crop_six\\leg_3\n",
      "Processing folder: D:/PycharmProjects/pro_dis_2/collected_data/complete_datasets_crop_six\\milk_1\n",
      "Processing folder: D:/PycharmProjects/pro_dis_2/collected_data/complete_datasets_crop_six\\milk_11\n",
      "Processing folder: D:/PycharmProjects/pro_dis_2/collected_data/complete_datasets_crop_six\\milk_12\n",
      "Processing folder: D:/PycharmProjects/pro_dis_2/collected_data/complete_datasets_crop_six\\milk_13\n",
      "Processing folder: D:/PycharmProjects/pro_dis_2/collected_data/complete_datasets_crop_six\\milk_2\n",
      "Processing folder: D:/PycharmProjects/pro_dis_2/collected_data/complete_datasets_crop_six\\milk_3\n",
      "Processing folder: D:/PycharmProjects/pro_dis_2/collected_data/complete_datasets_crop_six\\no_1\n",
      "Processing folder: D:/PycharmProjects/pro_dis_2/collected_data/complete_datasets_crop_six\\no_11\n",
      "Processing folder: D:/PycharmProjects/pro_dis_2/collected_data/complete_datasets_crop_six\\no_12\n",
      "Processing folder: D:/PycharmProjects/pro_dis_2/collected_data/complete_datasets_crop_six\\no_13\n",
      "Processing folder: D:/PycharmProjects/pro_dis_2/collected_data/complete_datasets_crop_six\\no_2\n",
      "Processing folder: D:/PycharmProjects/pro_dis_2/collected_data/complete_datasets_crop_six\\no_3\n",
      "Processing folder: D:/PycharmProjects/pro_dis_2/collected_data/complete_datasets_crop_six\\pen_1\n",
      "Processing folder: D:/PycharmProjects/pro_dis_2/collected_data/complete_datasets_crop_six\\pen_11\n",
      "Processing folder: D:/PycharmProjects/pro_dis_2/collected_data/complete_datasets_crop_six\\pen_12\n",
      "Processing folder: D:/PycharmProjects/pro_dis_2/collected_data/complete_datasets_crop_six\\pen_13\n",
      "Processing folder: D:/PycharmProjects/pro_dis_2/collected_data/complete_datasets_crop_six\\pen_2\n",
      "Processing folder: D:/PycharmProjects/pro_dis_2/collected_data/complete_datasets_crop_six\\pen_3\n",
      "Processing folder: D:/PycharmProjects/pro_dis_2/collected_data/complete_datasets_crop_six\\pick_1\n",
      "Processing folder: D:/PycharmProjects/pro_dis_2/collected_data/complete_datasets_crop_six\\pick_11\n",
      "Processing folder: D:/PycharmProjects/pro_dis_2/collected_data/complete_datasets_crop_six\\pick_12\n",
      "Processing folder: D:/PycharmProjects/pro_dis_2/collected_data/complete_datasets_crop_six\\pick_13\n",
      "Processing folder: D:/PycharmProjects/pro_dis_2/collected_data/complete_datasets_crop_six\\pick_2\n",
      "Processing folder: D:/PycharmProjects/pro_dis_2/collected_data/complete_datasets_crop_six\\pick_3\n",
      "Processing folder: D:/PycharmProjects/pro_dis_2/collected_data/complete_datasets_crop_six\\red_1\n",
      "Processing folder: D:/PycharmProjects/pro_dis_2/collected_data/complete_datasets_crop_six\\red_11\n",
      "Processing folder: D:/PycharmProjects/pro_dis_2/collected_data/complete_datasets_crop_six\\red_12\n",
      "Processing folder: D:/PycharmProjects/pro_dis_2/collected_data/complete_datasets_crop_six\\red_13\n",
      "Processing folder: D:/PycharmProjects/pro_dis_2/collected_data/complete_datasets_crop_six\\red_2\n",
      "Processing folder: D:/PycharmProjects/pro_dis_2/collected_data/complete_datasets_crop_six\\red_3\n",
      "Processing folder: D:/PycharmProjects/pro_dis_2/collected_data/complete_datasets_crop_six\\run_1\n",
      "Processing folder: D:/PycharmProjects/pro_dis_2/collected_data/complete_datasets_crop_six\\run_11\n",
      "Processing folder: D:/PycharmProjects/pro_dis_2/collected_data/complete_datasets_crop_six\\run_12\n",
      "Processing folder: D:/PycharmProjects/pro_dis_2/collected_data/complete_datasets_crop_six\\run_13\n",
      "Processing folder: D:/PycharmProjects/pro_dis_2/collected_data/complete_datasets_crop_six\\run_2\n",
      "Processing folder: D:/PycharmProjects/pro_dis_2/collected_data/complete_datasets_crop_six\\run_3\n",
      "Processing folder: D:/PycharmProjects/pro_dis_2/collected_data/complete_datasets_crop_six\\sit_1\n",
      "Processing folder: D:/PycharmProjects/pro_dis_2/collected_data/complete_datasets_crop_six\\sit_11\n",
      "Processing folder: D:/PycharmProjects/pro_dis_2/collected_data/complete_datasets_crop_six\\sit_12\n",
      "Processing folder: D:/PycharmProjects/pro_dis_2/collected_data/complete_datasets_crop_six\\sit_13\n",
      "Processing folder: D:/PycharmProjects/pro_dis_2/collected_data/complete_datasets_crop_six\\sit_2\n",
      "Processing folder: D:/PycharmProjects/pro_dis_2/collected_data/complete_datasets_crop_six\\sit_3\n",
      "Processing folder: D:/PycharmProjects/pro_dis_2/collected_data/complete_datasets_crop_six\\stop_1\n",
      "Processing folder: D:/PycharmProjects/pro_dis_2/collected_data/complete_datasets_crop_six\\stop_11\n",
      "Processing folder: D:/PycharmProjects/pro_dis_2/collected_data/complete_datasets_crop_six\\stop_12\n",
      "Processing folder: D:/PycharmProjects/pro_dis_2/collected_data/complete_datasets_crop_six\\stop_13\n",
      "Processing folder: D:/PycharmProjects/pro_dis_2/collected_data/complete_datasets_crop_six\\stop_2\n",
      "Processing folder: D:/PycharmProjects/pro_dis_2/collected_data/complete_datasets_crop_six\\stop_3\n",
      "Processing folder: D:/PycharmProjects/pro_dis_2/collected_data/complete_datasets_crop_six\\sun_1\n",
      "Processing folder: D:/PycharmProjects/pro_dis_2/collected_data/complete_datasets_crop_six\\sun_11\n",
      "Processing folder: D:/PycharmProjects/pro_dis_2/collected_data/complete_datasets_crop_six\\sun_12\n",
      "Processing folder: D:/PycharmProjects/pro_dis_2/collected_data/complete_datasets_crop_six\\sun_13\n",
      "Processing folder: D:/PycharmProjects/pro_dis_2/collected_data/complete_datasets_crop_six\\sun_2\n",
      "Processing folder: D:/PycharmProjects/pro_dis_2/collected_data/complete_datasets_crop_six\\sun_3\n",
      "Processing folder: D:/PycharmProjects/pro_dis_2/collected_data/complete_datasets_crop_six\\top_1\n",
      "Processing folder: D:/PycharmProjects/pro_dis_2/collected_data/complete_datasets_crop_six\\top_11\n",
      "Processing folder: D:/PycharmProjects/pro_dis_2/collected_data/complete_datasets_crop_six\\top_12\n",
      "Processing folder: D:/PycharmProjects/pro_dis_2/collected_data/complete_datasets_crop_six\\top_13\n",
      "Processing folder: D:/PycharmProjects/pro_dis_2/collected_data/complete_datasets_crop_six\\top_2\n",
      "Processing folder: D:/PycharmProjects/pro_dis_2/collected_data/complete_datasets_crop_six\\top_3\n",
      "Processing folder: D:/PycharmProjects/pro_dis_2/collected_data/complete_datasets_crop_six\\win_1\n",
      "Processing folder: D:/PycharmProjects/pro_dis_2/collected_data/complete_datasets_crop_six\\win_11\n",
      "Processing folder: D:/PycharmProjects/pro_dis_2/collected_data/complete_datasets_crop_six\\win_12\n",
      "Processing folder: D:/PycharmProjects/pro_dis_2/collected_data/complete_datasets_crop_six\\win_13\n",
      "Processing folder: D:/PycharmProjects/pro_dis_2/collected_data/complete_datasets_crop_six\\win_2\n",
      "Processing folder: D:/PycharmProjects/pro_dis_2/collected_data/complete_datasets_crop_six\\win_3\n",
      "Processing folder: D:/PycharmProjects/pro_dis_2/collected_data/complete_datasets_crop_six\\yes_1\n",
      "Processing folder: D:/PycharmProjects/pro_dis_2/collected_data/complete_datasets_crop_six\\yes_11\n",
      "Processing folder: D:/PycharmProjects/pro_dis_2/collected_data/complete_datasets_crop_six\\yes_12\n",
      "Processing folder: D:/PycharmProjects/pro_dis_2/collected_data/complete_datasets_crop_six\\yes_13\n",
      "Processing folder: D:/PycharmProjects/pro_dis_2/collected_data/complete_datasets_crop_six\\yes_2\n",
      "Processing folder: D:/PycharmProjects/pro_dis_2/collected_data/complete_datasets_crop_six\\yes_3\n",
      "Labels: ['bat', 'bat', 'bat', 'bat', 'bat', 'bat', 'big', 'big', 'big', 'big', 'big', 'big', 'book', 'book', 'book', 'book', 'book', 'book', 'car', 'car', 'car', 'car', 'car', 'car', 'cat', 'cat', 'cat', 'cat', 'cat', 'cat', 'cup', 'cup', 'cup', 'cup', 'cup', 'cup', 'dog', 'dog', 'dog', 'dog', 'dog', 'dog', 'drop', 'drop', 'drop', 'drop', 'drop', 'drop', 'eat', 'eat', 'eat', 'eat', 'eat', 'eat', 'fast', 'fast', 'fast', 'fast', 'fast', 'fast', 'fish', 'fish', 'fish', 'fish', 'fish', 'fish', 'fun', 'fun', 'fun', 'fun', 'fun', 'fun', 'go', 'go', 'go', 'go', 'go', 'go', 'hat', 'hat', 'hat', 'hat', 'hat', 'hat', 'hot', 'hot', 'hot', 'hot', 'hot', 'hot', 'jump', 'jump', 'jump', 'jump', 'jump', 'jump', 'kick', 'kick', 'kick', 'kick', 'kick', 'kick', 'leg', 'leg', 'leg', 'leg', 'leg', 'leg', 'milk', 'milk', 'milk', 'milk', 'milk', 'milk', 'no', 'no', 'no', 'no', 'no', 'no', 'pen', 'pen', 'pen', 'pen', 'pen', 'pen', 'pick', 'pick', 'pick', 'pick', 'pick', 'pick', 'red', 'red', 'red', 'red', 'red', 'red', 'run', 'run', 'run', 'run', 'run', 'run', 'sit', 'sit', 'sit', 'sit', 'sit', 'sit', 'stop', 'stop', 'stop', 'stop', 'stop', 'stop', 'sun', 'sun', 'sun', 'sun', 'sun', 'sun', 'top', 'top', 'top', 'top', 'top', 'top', 'win', 'win', 'win', 'win', 'win', 'win', 'yes', 'yes', 'yes', 'yes', 'yes', 'yes']\n"
     ]
    }
   ],
   "source": [
    "import os\n",
    "import json\n",
    "import numpy as np\n",
    "\n",
    "# Set the directory path\n",
    "dir_path = \"D:/PycharmProjects/pro_dis_2/collected_data/complete_datasets_crop_six\"\n",
    "\n",
    "# Set the dimensions of each frame\n",
    "height, width, channels = 80, 112, 3\n",
    "\n",
    "# Initialize arrays to store the video frames and their corresponding labels\n",
    "videos = []\n",
    "labels = []\n",
    "\n",
    "# Loop through each word folder and extract video frames\n",
    "for root, dirs, files in os.walk(dir_path):\n",
    "    for file in files:\n",
    "        if file == \"data.txt\":\n",
    "            # Print the current processing word folder for tracking\n",
    "            print(f\"Processing folder: {root}\")\n",
    "\n",
    "            # Extract the label from the directory name (splitting before the \"_x\")\n",
    "            label = root.split(\"\\\\\")[-1].split(\"_\")[0]\n",
    "\n",
    "            # Read the contents of the data.txt file\n",
    "            with open(os.path.join(root, file), 'r') as f:\n",
    "                data_str = f.read()\n",
    "\n",
    "            # Check if the content of data.txt matches the expected structure\n",
    "            try:\n",
    "                # Evaluate the contents of the text file as a Python expression\n",
    "                data_list = json.loads(data_str)\n",
    "\n",
    "                # Convert the list to a numpy array\n",
    "                data_array = np.array(data_list)\n",
    "\n",
    "                # Verify that the data shape is correct before reshaping\n",
    "                num_frames = len(data_list)\n",
    "                if num_frames == 60:  # Ensure the expected 60 frames are present\n",
    "                    frames = data_array.reshape((num_frames, height, width, channels))\n",
    "\n",
    "                    # Append the frames and label to the videos and labels arrays\n",
    "                    videos.append(frames)\n",
    "                    labels.append(label)\n",
    "                else:\n",
    "                    print(f\"Warning: Number of frames in {root} is not 60. Skipping folder.\")\n",
    "\n",
    "            except (ValueError, json.JSONDecodeError) as e:\n",
    "                print(f\"Error processing {root}/data.txt: {e}\")\n",
    "\n",
    "print(\"Labels:\", labels)"
   ],
   "metadata": {
    "collapsed": false,
    "ExecuteTime": {
     "end_time": "2024-11-07T15:44:08.753782100Z",
     "start_time": "2024-11-07T15:42:08.611510700Z"
    }
   }
  },
  {
   "cell_type": "code",
   "execution_count": 19,
   "outputs": [
    {
     "name": "stdout",
     "output_type": "stream",
     "text": [
      "Saved videos.npy and labels.npy successfully.\n"
     ]
    }
   ],
   "source": [
    "# Convert the videos and labels arrays to NumPy arrays\n",
    "videos = np.array(videos)\n",
    "labels = np.array(labels)\n",
    "\n",
    "# Save the videos and labels as separate .npy files\n",
    "np.save(\"collected_data/npy_files_seven/videos.npy\", videos)\n",
    "np.save(\"collected_data/npy_files_seven/labels.npy\", labels)\n",
    "print(\"Saved videos.npy and labels.npy successfully.\")"
   ],
   "metadata": {
    "collapsed": false,
    "ExecuteTime": {
     "end_time": "2024-11-07T15:44:17.113613600Z",
     "start_time": "2024-11-07T15:44:14.442774300Z"
    }
   }
  },
  {
   "cell_type": "code",
   "execution_count": 9,
   "outputs": [],
   "source": [
    "videos = np.load('collected_data/npy_files_seven/videos.npy')\n",
    "labels = np.load('collected_data/npy_files_seven/labels.npy')"
   ],
   "metadata": {
    "collapsed": false,
    "ExecuteTime": {
     "end_time": "2024-11-07T14:33:55.620601900Z",
     "start_time": "2024-11-07T14:33:55.280385Z"
    }
   }
  },
  {
   "cell_type": "code",
   "execution_count": 10,
   "outputs": [
    {
     "name": "stdout",
     "output_type": "stream",
     "text": [
      "Videos shape: (60, 60, 80, 112, 3)\n",
      "Labels shape: (60,)\n"
     ]
    }
   ],
   "source": [
    "# Print the shape of the videos and labels arrays\n",
    "print(\"Videos shape:\", videos.shape)\n",
    "print(\"Labels shape:\", labels.shape)"
   ],
   "metadata": {
    "collapsed": false,
    "ExecuteTime": {
     "end_time": "2024-11-07T14:33:58.397241900Z",
     "start_time": "2024-11-07T14:33:58.377800400Z"
    }
   }
  },
  {
   "cell_type": "code",
   "execution_count": 5,
   "outputs": [
    {
     "name": "stdout",
     "output_type": "stream",
     "text": [
      "Encoded labels: [0 0 0 0 0 0 0 0 0 0 0 0 0 0 0 0 0 0 0 0 1 1 1 1 1 1 1 1 1 1 1 1 1 1 1 1 1\n",
      " 1 1 1 2 2 2 2 2 2 2 2 2 2 2 2 2 2 2 2 2 2 2 2 3 3 3 3 3 3 3 3 3 3 3 3 3 3\n",
      " 3 3 3 3 3 3 4 4 4 4 4 4 4 4 4 4 4 4 4 4 4 4 4 4 4 4]\n",
      "Label Dictionary: {0: 'bat', 1: 'big', 2: 'book', 3: 'car', 4: 'cat'}\n"
     ]
    }
   ],
   "source": [
    "from sklearn.preprocessing import LabelEncoder\n",
    "\n",
    "# Initialize and fit the LabelEncoder\n",
    "encoder = LabelEncoder()\n",
    "encoder.fit(labels)\n",
    "\n",
    "# Transform the labels into encoded integers\n",
    "encoded_labels = encoder.transform(labels)\n",
    "labels = encoded_labels\n",
    "\n",
    "# Create the label dictionary\n",
    "label_dict = {index: str(label) for index, label in enumerate(encoder.classes_)}\n",
    "\n",
    "# Print the encoded labels and label dictionary to verify\n",
    "print(\"Encoded labels:\", labels)\n",
    "print(\"Label Dictionary:\", label_dict)"
   ],
   "metadata": {
    "collapsed": false,
    "ExecuteTime": {
     "end_time": "2024-11-06T23:36:52.293140100Z",
     "start_time": "2024-11-06T23:36:52.278590300Z"
    }
   }
  },
  {
   "cell_type": "code",
   "execution_count": 6,
   "outputs": [
    {
     "data": {
      "text/plain": "100"
     },
     "execution_count": 6,
     "metadata": {},
     "output_type": "execute_result"
    }
   ],
   "source": [
    "len(labels)"
   ],
   "metadata": {
    "collapsed": false,
    "ExecuteTime": {
     "end_time": "2024-11-06T23:36:56.898006600Z",
     "start_time": "2024-11-06T23:36:56.870143600Z"
    }
   }
  },
  {
   "cell_type": "code",
   "execution_count": 7,
   "outputs": [
    {
     "name": "stdout",
     "output_type": "stream",
     "text": [
      "Training set shape: (80, 60, 80, 112, 3) (80,)\n",
      "Test set shape: (20, 60, 80, 112, 3) (20,)\n"
     ]
    }
   ],
   "source": [
    "from sklearn.model_selection import train_test_split\n",
    "\n",
    "# Assuming `videos` and `labels` arrays are already prepared as in your scenario\n",
    "# `videos` should have the shape (600, 60, 80, 112, 3)\n",
    "# `labels` should have the shape (600,)\n",
    "\n",
    "# Split the data into training and validation sets with a 20% split for testing\n",
    "X_train, X_test, y_train, y_test = train_test_split(videos, labels, test_size=0.2, random_state=42)\n",
    "\n",
    "# Output the shape of the splits for verification\n",
    "print(\"Training set shape:\", X_train.shape, y_train.shape)\n",
    "print(\"Test set shape:\", X_test.shape, y_test.shape)\n",
    "\n",
    "# Optionally, clear the memory of `videos` if it's no longer needed\n",
    "del videos"
   ],
   "metadata": {
    "collapsed": false,
    "ExecuteTime": {
     "end_time": "2024-11-06T23:37:01.481838800Z",
     "start_time": "2024-11-06T23:37:01.170969800Z"
    }
   }
  },
  {
   "cell_type": "code",
   "execution_count": 8,
   "outputs": [
    {
     "name": "stdout",
     "output_type": "stream",
     "text": [
      "Total Memory: 15.35 GB\n",
      "Available Memory: 7.79 GB\n",
      "Used Memory: 7.56 GB\n",
      "Memory Usage: 49.3%\n"
     ]
    }
   ],
   "source": [
    "import gc\n",
    "import psutil\n",
    "\n",
    "# Collect garbage to free up memory\n",
    "gc.collect()\n",
    "\n",
    "# Check memory information on Windows\n",
    "memory_info = psutil.virtual_memory()\n",
    "print(f\"Total Memory: {memory_info.total / (1024 ** 3):.2f} GB\")\n",
    "print(f\"Available Memory: {memory_info.available / (1024 ** 3):.2f} GB\")\n",
    "print(f\"Used Memory: {memory_info.used / (1024 ** 3):.2f} GB\")\n",
    "print(f\"Memory Usage: {memory_info.percent}%\")"
   ],
   "metadata": {
    "collapsed": false,
    "ExecuteTime": {
     "end_time": "2024-11-06T23:37:06.506006600Z",
     "start_time": "2024-11-06T23:37:06.347228900Z"
    }
   }
  },
  {
   "cell_type": "code",
   "execution_count": 12,
   "outputs": [
    {
     "name": "stdout",
     "output_type": "stream",
     "text": [
      "Class Distribution in Dataset:\n",
      "bat   20 counts\n",
      "big   20 counts\n",
      "book  20 counts\n",
      "car   20 counts\n",
      "cat   20 counts\n"
     ]
    }
   ],
   "source": [
    "import numpy as np\n",
    "\n",
    "# Assuming `labels` is the array of encoded labels from your dataset\n",
    "# Assuming `label_dict` is a dictionary mapping label indices to word names\n",
    "\n",
    "# Get the unique classes\n",
    "classes = np.unique(labels)\n",
    "\n",
    "# Count the number of occurrences of each class\n",
    "counts = np.bincount(labels, minlength=len(classes))\n",
    "\n",
    "# Find the maximum length of the class names for alignment\n",
    "max_len = max([len(label_dict[i]) for i in range(len(label_dict))])\n",
    "\n",
    "# Print the distribution of classes\n",
    "print(\"Class Distribution in Dataset:\")\n",
    "for i, count in enumerate(counts):\n",
    "    class_name = label_dict[i].ljust(max_len)\n",
    "    print(f\"{class_name}  {count} counts\")"
   ],
   "metadata": {
    "collapsed": false,
    "ExecuteTime": {
     "end_time": "2024-11-06T22:57:11.402767600Z",
     "start_time": "2024-11-06T22:57:11.381327800Z"
    }
   }
  },
  {
   "cell_type": "code",
   "execution_count": 10,
   "outputs": [
    {
     "data": {
      "text/plain": "<Figure size 800x600 with 1 Axes>",
      "image/png": "[encoded data removed]"
     },
     "metadata": {},
     "output_type": "display_data"
    }
   ],
   "source": [
    "# Get the unique classes\n",
    "classes = np.unique(labels)\n",
    "\n",
    "# Count the number of occurrences of each class\n",
    "counts = np.bincount(labels, minlength=len(classes))\n",
    "\n",
    "# Set the figure size and font size\n",
    "plt.figure(figsize=(8, 6))\n",
    "plt.rcParams.update({'font.size': 12})\n",
    "\n",
    "# Plot the histogram\n",
    "plt.hist(labels, bins=len(classes), width=0.8)\n",
    "plt.xticks(range(len(classes)), [label_dict[i] for i in range(len(classes))], rotation=45, ha='right')\n",
    "plt.xlabel('Classes')\n",
    "plt.ylabel('Counts')\n",
    "plt.title('Distribution of Classes')\n",
    "\n",
    "# Display the plot\n",
    "plt.show()"
   ],
   "metadata": {
    "collapsed": false,
    "ExecuteTime": {
     "end_time": "2024-11-06T22:36:02.293952800Z",
     "start_time": "2024-11-06T22:36:02.122803600Z"
    }
   }
  },
  {
   "cell_type": "markdown",
   "source": [
    "model 1"
   ],
   "metadata": {
    "collapsed": false
   }
  },
  {
   "cell_type": "code",
   "execution_count": 13,
   "outputs": [
    {
     "name": "stderr",
     "output_type": "stream",
     "text": [
      "D:\\PycharmProjects\\pro_dis_2\\venv\\lib\\site-packages\\keras\\src\\layers\\convolutional\\base_conv.py:107: UserWarning: Do not pass an `input_shape`/`input_dim` argument to a layer. When using Sequential models, prefer using an `Input(shape)` object as the first layer in the model instead.\n",
      "  super().__init__(activity_regularizer=activity_regularizer, **kwargs)\n"
     ]
    },
    {
     "data": {
      "text/plain": "\u001B[1mModel: \"sequential\"\u001B[0m\n",
      "text/html": "<pre style=\"white-space:pre;overflow-x:auto;line-height:normal;font-family:Menlo,'DejaVu Sans Mono',consolas,'Courier New',monospace\"><span style=\"font-weight: bold\">Model: \"sequential\"</span>\n</pre>\n"
     },
     "metadata": {},
     "output_type": "display_data"
    },
    {
     "data": {
      "text/plain": "┏━━━━━━━━━━━━━━━━━━━━━━━━━━━━━━━━━┳━━━━━━━━━━━━━━━━━━━━━━━━┳━━━━━━━━━━━━━━━┓\n┃\u001B[1m \u001B[0m\u001B[1mLayer (type)                   \u001B[0m\u001B[1m \u001B[0m┃\u001B[1m \u001B[0m\u001B[1mOutput Shape          \u001B[0m\u001B[1m \u001B[0m┃\u001B[1m \u001B[0m\u001B[1m      Param #\u001B[0m\u001B[1m \u001B[0m┃\n┡━━━━━━━━━━━━━━━━━━━━━━━━━━━━━━━━━╇━━━━━━━━━━━━━━━━━━━━━━━━╇━━━━━━━━━━━━━━━┩\n│ conv3d (\u001B[38;5;33mConv3D\u001B[0m)                 │ (\u001B[38;5;45mNone\u001B[0m, \u001B[38;5;34m58\u001B[0m, \u001B[38;5;34m78\u001B[0m, \u001B[38;5;34m110\u001B[0m, \u001B[38;5;34m8\u001B[0m) │           \u001B[38;5;34m656\u001B[0m │\n├─────────────────────────────────┼────────────────────────┼───────────────┤\n│ max_pooling3d (\u001B[38;5;33mMaxPooling3D\u001B[0m)    │ (\u001B[38;5;45mNone\u001B[0m, \u001B[38;5;34m29\u001B[0m, \u001B[38;5;34m39\u001B[0m, \u001B[38;5;34m55\u001B[0m, \u001B[38;5;34m8\u001B[0m)  │             \u001B[38;5;34m0\u001B[0m │\n├─────────────────────────────────┼────────────────────────┼───────────────┤\n│ conv3d_1 (\u001B[38;5;33mConv3D\u001B[0m)               │ (\u001B[38;5;45mNone\u001B[0m, \u001B[38;5;34m27\u001B[0m, \u001B[38;5;34m37\u001B[0m, \u001B[38;5;34m53\u001B[0m, \u001B[38;5;34m32\u001B[0m) │         \u001B[38;5;34m6,944\u001B[0m │\n├─────────────────────────────────┼────────────────────────┼───────────────┤\n│ max_pooling3d_1 (\u001B[38;5;33mMaxPooling3D\u001B[0m)  │ (\u001B[38;5;45mNone\u001B[0m, \u001B[38;5;34m13\u001B[0m, \u001B[38;5;34m18\u001B[0m, \u001B[38;5;34m26\u001B[0m, \u001B[38;5;34m32\u001B[0m) │             \u001B[38;5;34m0\u001B[0m │\n├─────────────────────────────────┼────────────────────────┼───────────────┤\n│ conv3d_2 (\u001B[38;5;33mConv3D\u001B[0m)               │ (\u001B[38;5;45mNone\u001B[0m, \u001B[38;5;34m11\u001B[0m, \u001B[38;5;34m16\u001B[0m, \u001B[38;5;34m24\u001B[0m,     │       \u001B[38;5;34m221,440\u001B[0m │\n│                                 │ \u001B[38;5;34m256\u001B[0m)                   │               │\n├─────────────────────────────────┼────────────────────────┼───────────────┤\n│ flatten (\u001B[38;5;33mFlatten\u001B[0m)               │ (\u001B[38;5;45mNone\u001B[0m, \u001B[38;5;34m1081344\u001B[0m)        │             \u001B[38;5;34m0\u001B[0m │\n├─────────────────────────────────┼────────────────────────┼───────────────┤\n│ dense (\u001B[38;5;33mDense\u001B[0m)                   │ (\u001B[38;5;45mNone\u001B[0m, \u001B[38;5;34m1024\u001B[0m)           │ \u001B[38;5;34m1,107,297,280\u001B[0m │\n├─────────────────────────────────┼────────────────────────┼───────────────┤\n│ dropout (\u001B[38;5;33mDropout\u001B[0m)               │ (\u001B[38;5;45mNone\u001B[0m, \u001B[38;5;34m1024\u001B[0m)           │             \u001B[38;5;34m0\u001B[0m │\n├─────────────────────────────────┼────────────────────────┼───────────────┤\n│ dense_1 (\u001B[38;5;33mDense\u001B[0m)                 │ (\u001B[38;5;45mNone\u001B[0m, \u001B[38;5;34m256\u001B[0m)            │       \u001B[38;5;34m262,400\u001B[0m │\n├─────────────────────────────────┼────────────────────────┼───────────────┤\n│ dropout_1 (\u001B[38;5;33mDropout\u001B[0m)             │ (\u001B[38;5;45mNone\u001B[0m, \u001B[38;5;34m256\u001B[0m)            │             \u001B[38;5;34m0\u001B[0m │\n├─────────────────────────────────┼────────────────────────┼───────────────┤\n│ dense_2 (\u001B[38;5;33mDense\u001B[0m)                 │ (\u001B[38;5;45mNone\u001B[0m, \u001B[38;5;34m64\u001B[0m)             │        \u001B[38;5;34m16,448\u001B[0m │\n├─────────────────────────────────┼────────────────────────┼───────────────┤\n│ dropout_2 (\u001B[38;5;33mDropout\u001B[0m)             │ (\u001B[38;5;45mNone\u001B[0m, \u001B[38;5;34m64\u001B[0m)             │             \u001B[38;5;34m0\u001B[0m │\n├─────────────────────────────────┼────────────────────────┼───────────────┤\n│ dense_3 (\u001B[38;5;33mDense\u001B[0m)                 │ (\u001B[38;5;45mNone\u001B[0m, \u001B[38;5;34m5\u001B[0m)              │           \u001B[38;5;34m325\u001B[0m │\n└─────────────────────────────────┴────────────────────────┴───────────────┘\n",
      "text/html": "<pre style=\"white-space:pre;overflow-x:auto;line-height:normal;font-family:Menlo,'DejaVu Sans Mono',consolas,'Courier New',monospace\">┏━━━━━━━━━━━━━━━━━━━━━━━━━━━━━━━━━┳━━━━━━━━━━━━━━━━━━━━━━━━┳━━━━━━━━━━━━━━━┓\n┃<span style=\"font-weight: bold\"> Layer (type)                    </span>┃<span style=\"font-weight: bold\"> Output Shape           </span>┃<span style=\"font-weight: bold\">       Param # </span>┃\n┡━━━━━━━━━━━━━━━━━━━━━━━━━━━━━━━━━╇━━━━━━━━━━━━━━━━━━━━━━━━╇━━━━━━━━━━━━━━━┩\n│ conv3d (<span style=\"color: #0087ff; text-decoration-color: #0087ff\">Conv3D</span>)                 │ (<span style=\"color: #00d7ff; text-decoration-color: #00d7ff\">None</span>, <span style=\"color: #00af00; text-decoration-color: #00af00\">58</span>, <span style=\"color: #00af00; text-decoration-color: #00af00\">78</span>, <span style=\"color: #00af00; text-decoration-color: #00af00\">110</span>, <span style=\"color: #00af00; text-decoration-color: #00af00\">8</span>) │           <span style=\"color: #00af00; text-decoration-color: #00af00\">656</span> │\n├─────────────────────────────────┼────────────────────────┼───────────────┤\n│ max_pooling3d (<span style=\"color: #0087ff; text-decoration-color: #0087ff\">MaxPooling3D</span>)    │ (<span style=\"color: #00d7ff; text-decoration-color: #00d7ff\">None</span>, <span style=\"color: #00af00; text-decoration-color: #00af00\">29</span>, <span style=\"color: #00af00; text-decoration-color: #00af00\">39</span>, <span style=\"color: #00af00; text-decoration-color: #00af00\">55</span>, <span style=\"color: #00af00; text-decoration-color: #00af00\">8</span>)  │             <span style=\"color: #00af00; text-decoration-color: #00af00\">0</span> │\n├─────────────────────────────────┼────────────────────────┼───────────────┤\n│ conv3d_1 (<span style=\"color: #0087ff; text-decoration-color: #0087ff\">Conv3D</span>)               │ (<span style=\"color: #00d7ff; text-decoration-color: #00d7ff\">None</span>, <span style=\"color: #00af00; text-decoration-color: #00af00\">27</span>, <span style=\"color: #00af00; text-decoration-color: #00af00\">37</span>, <span style=\"color: #00af00; text-decoration-color: #00af00\">53</span>, <span style=\"color: #00af00; text-decoration-color: #00af00\">32</span>) │         <span style=\"color: #00af00; text-decoration-color: #00af00\">6,944</span> │\n├─────────────────────────────────┼────────────────────────┼───────────────┤\n│ max_pooling3d_1 (<span style=\"color: #0087ff; text-decoration-color: #0087ff\">MaxPooling3D</span>)  │ (<span style=\"color: #00d7ff; text-decoration-color: #00d7ff\">None</span>, <span style=\"color: #00af00; text-decoration-color: #00af00\">13</span>, <span style=\"color: #00af00; text-decoration-color: #00af00\">18</span>, <span style=\"color: #00af00; text-decoration-color: #00af00\">26</span>, <span style=\"color: #00af00; text-decoration-color: #00af00\">32</span>) │             <span style=\"color: #00af00; text-decoration-color: #00af00\">0</span> │\n├─────────────────────────────────┼────────────────────────┼───────────────┤\n│ conv3d_2 (<span style=\"color: #0087ff; text-decoration-color: #0087ff\">Conv3D</span>)               │ (<span style=\"color: #00d7ff; text-decoration-color: #00d7ff\">None</span>, <span style=\"color: #00af00; text-decoration-color: #00af00\">11</span>, <span style=\"color: #00af00; text-decoration-color: #00af00\">16</span>, <span style=\"color: #00af00; text-decoration-color: #00af00\">24</span>,     │       <span style=\"color: #00af00; text-decoration-color: #00af00\">221,440</span> │\n│                                 │ <span style=\"color: #00af00; text-decoration-color: #00af00\">256</span>)                   │               │\n├─────────────────────────────────┼────────────────────────┼───────────────┤\n│ flatten (<span style=\"color: #0087ff; text-decoration-color: #0087ff\">Flatten</span>)               │ (<span style=\"color: #00d7ff; text-decoration-color: #00d7ff\">None</span>, <span style=\"color: #00af00; text-decoration-color: #00af00\">1081344</span>)        │             <span style=\"color: #00af00; text-decoration-color: #00af00\">0</span> │\n├─────────────────────────────────┼────────────────────────┼───────────────┤\n│ dense (<span style=\"color: #0087ff; text-decoration-color: #0087ff\">Dense</span>)                   │ (<span style=\"color: #00d7ff; text-decoration-color: #00d7ff\">None</span>, <span style=\"color: #00af00; text-decoration-color: #00af00\">1024</span>)           │ <span style=\"color: #00af00; text-decoration-color: #00af00\">1,107,297,280</span> │\n├─────────────────────────────────┼────────────────────────┼───────────────┤\n│ dropout (<span style=\"color: #0087ff; text-decoration-color: #0087ff\">Dropout</span>)               │ (<span style=\"color: #00d7ff; text-decoration-color: #00d7ff\">None</span>, <span style=\"color: #00af00; text-decoration-color: #00af00\">1024</span>)           │             <span style=\"color: #00af00; text-decoration-color: #00af00\">0</span> │\n├─────────────────────────────────┼────────────────────────┼───────────────┤\n│ dense_1 (<span style=\"color: #0087ff; text-decoration-color: #0087ff\">Dense</span>)                 │ (<span style=\"color: #00d7ff; text-decoration-color: #00d7ff\">None</span>, <span style=\"color: #00af00; text-decoration-color: #00af00\">256</span>)            │       <span style=\"color: #00af00; text-decoration-color: #00af00\">262,400</span> │\n├─────────────────────────────────┼────────────────────────┼───────────────┤\n│ dropout_1 (<span style=\"color: #0087ff; text-decoration-color: #0087ff\">Dropout</span>)             │ (<span style=\"color: #00d7ff; text-decoration-color: #00d7ff\">None</span>, <span style=\"color: #00af00; text-decoration-color: #00af00\">256</span>)            │             <span style=\"color: #00af00; text-decoration-color: #00af00\">0</span> │\n├─────────────────────────────────┼────────────────────────┼───────────────┤\n│ dense_2 (<span style=\"color: #0087ff; text-decoration-color: #0087ff\">Dense</span>)                 │ (<span style=\"color: #00d7ff; text-decoration-color: #00d7ff\">None</span>, <span style=\"color: #00af00; text-decoration-color: #00af00\">64</span>)             │        <span style=\"color: #00af00; text-decoration-color: #00af00\">16,448</span> │\n├─────────────────────────────────┼────────────────────────┼───────────────┤\n│ dropout_2 (<span style=\"color: #0087ff; text-decoration-color: #0087ff\">Dropout</span>)             │ (<span style=\"color: #00d7ff; text-decoration-color: #00d7ff\">None</span>, <span style=\"color: #00af00; text-decoration-color: #00af00\">64</span>)             │             <span style=\"color: #00af00; text-decoration-color: #00af00\">0</span> │\n├─────────────────────────────────┼────────────────────────┼───────────────┤\n│ dense_3 (<span style=\"color: #0087ff; text-decoration-color: #0087ff\">Dense</span>)                 │ (<span style=\"color: #00d7ff; text-decoration-color: #00d7ff\">None</span>, <span style=\"color: #00af00; text-decoration-color: #00af00\">5</span>)              │           <span style=\"color: #00af00; text-decoration-color: #00af00\">325</span> │\n└─────────────────────────────────┴────────────────────────┴───────────────┘\n</pre>\n"
     },
     "metadata": {},
     "output_type": "display_data"
    },
    {
     "data": {
      "text/plain": "\u001B[1m Total params: \u001B[0m\u001B[38;5;34m1,107,805,493\u001B[0m (4.13 GB)\n",
      "text/html": "<pre style=\"white-space:pre;overflow-x:auto;line-height:normal;font-family:Menlo,'DejaVu Sans Mono',consolas,'Courier New',monospace\"><span style=\"font-weight: bold\"> Total params: </span><span style=\"color: #00af00; text-decoration-color: #00af00\">1,107,805,493</span> (4.13 GB)\n</pre>\n"
     },
     "metadata": {},
     "output_type": "display_data"
    },
    {
     "data": {
      "text/plain": "\u001B[1m Trainable params: \u001B[0m\u001B[38;5;34m1,107,805,493\u001B[0m (4.13 GB)\n",
      "text/html": "<pre style=\"white-space:pre;overflow-x:auto;line-height:normal;font-family:Menlo,'DejaVu Sans Mono',consolas,'Courier New',monospace\"><span style=\"font-weight: bold\"> Trainable params: </span><span style=\"color: #00af00; text-decoration-color: #00af00\">1,107,805,493</span> (4.13 GB)\n</pre>\n"
     },
     "metadata": {},
     "output_type": "display_data"
    },
    {
     "data": {
      "text/plain": "\u001B[1m Non-trainable params: \u001B[0m\u001B[38;5;34m0\u001B[0m (0.00 B)\n",
      "text/html": "<pre style=\"white-space:pre;overflow-x:auto;line-height:normal;font-family:Menlo,'DejaVu Sans Mono',consolas,'Courier New',monospace\"><span style=\"font-weight: bold\"> Non-trainable params: </span><span style=\"color: #00af00; text-decoration-color: #00af00\">0</span> (0.00 B)\n</pre>\n"
     },
     "metadata": {},
     "output_type": "display_data"
    }
   ],
   "source": [
    "# # Define the input shape based on the frames and dimensions of your data\n",
    "# input_shape = (60, 80, 112, 3)  # Adjusted to fit the 60 frames in each video, with frame size 80x112 in RGB\n",
    "#\n",
    "# # Define the model architecture\n",
    "# model = Sequential()\n",
    "# model.add(Conv3D(8, (3, 3, 3), activation='relu', input_shape=input_shape, kernel_regularizer=regularizers.l2(0.001)))\n",
    "# model.add(MaxPooling3D((2, 2, 2)))\n",
    "# model.add(Conv3D(32, (3, 3, 3), activation='relu', kernel_regularizer=regularizers.l2(0.001)))\n",
    "# model.add(MaxPooling3D((2, 2, 2)))\n",
    "# model.add(Conv3D(256, (3, 3, 3), activation='relu', kernel_regularizer=regularizers.l2(0.001)))\n",
    "# model.add(Flatten())\n",
    "# model.add(Dense(1024, activation='relu'))\n",
    "# model.add(Dropout(0.5))\n",
    "# model.add(Dense(256, activation='relu'))\n",
    "# model.add(Dropout(0.5))\n",
    "# model.add(Dense(64, activation='relu'))\n",
    "# model.add(Dropout(0.5))\n",
    "# model.add(Dense(5, activation='softmax'))  # Adjusted to match 5 unique words\n",
    "#\n",
    "# # Compile the model\n",
    "# model.compile(optimizer='adam', loss='categorical_crossentropy', metrics=['accuracy'])\n",
    "#\n",
    "# # Convert the target labels to one-hot encoding\n",
    "# y_train_onehot = tf.keras.utils.to_categorical(y_train)\n",
    "# y_test_onehot = tf.keras.utils.to_categorical(y_test)\n",
    "#\n",
    "# # Display the model summary to confirm the architecture\n",
    "# model.summary()\n",
    "#\n",
    "# # Optionally, start training the model with the training data\n",
    "# # model.fit(X_train, y_train_onehot, validation_data=(X_test, y_test_onehot), epochs=10, batch_size=32)"
   ],
   "metadata": {
    "collapsed": false,
    "ExecuteTime": {
     "end_time": "2024-11-06T22:58:17.056527900Z",
     "start_time": "2024-11-06T22:57:26.680358600Z"
    }
   }
  },
  {
   "cell_type": "markdown",
   "source": [
    "model 2"
   ],
   "metadata": {
    "collapsed": false
   }
  },
  {
   "cell_type": "code",
   "execution_count": 14,
   "outputs": [
    {
     "data": {
      "text/plain": "\u001B[1mModel: \"sequential_5\"\u001B[0m\n",
      "text/html": "<pre style=\"white-space:pre;overflow-x:auto;line-height:normal;font-family:Menlo,'DejaVu Sans Mono',consolas,'Courier New',monospace\"><span style=\"font-weight: bold\">Model: \"sequential_5\"</span>\n</pre>\n"
     },
     "metadata": {},
     "output_type": "display_data"
    },
    {
     "data": {
      "text/plain": "┏━━━━━━━━━━━━━━━━━━━━━━━━━━━━━━━━━┳━━━━━━━━━━━━━━━━━━━━━━━━┳━━━━━━━━━━━━━━━┓\n┃\u001B[1m \u001B[0m\u001B[1mLayer (type)                   \u001B[0m\u001B[1m \u001B[0m┃\u001B[1m \u001B[0m\u001B[1mOutput Shape          \u001B[0m\u001B[1m \u001B[0m┃\u001B[1m \u001B[0m\u001B[1m      Param #\u001B[0m\u001B[1m \u001B[0m┃\n┡━━━━━━━━━━━━━━━━━━━━━━━━━━━━━━━━━╇━━━━━━━━━━━━━━━━━━━━━━━━╇━━━━━━━━━━━━━━━┩\n│ conv3d_15 (\u001B[38;5;33mConv3D\u001B[0m)              │ (\u001B[38;5;45mNone\u001B[0m, \u001B[38;5;34m58\u001B[0m, \u001B[38;5;34m78\u001B[0m, \u001B[38;5;34m110\u001B[0m, \u001B[38;5;34m8\u001B[0m) │           \u001B[38;5;34m656\u001B[0m │\n├─────────────────────────────────┼────────────────────────┼───────────────┤\n│ max_pooling3d_10 (\u001B[38;5;33mMaxPooling3D\u001B[0m) │ (\u001B[38;5;45mNone\u001B[0m, \u001B[38;5;34m29\u001B[0m, \u001B[38;5;34m39\u001B[0m, \u001B[38;5;34m55\u001B[0m, \u001B[38;5;34m8\u001B[0m)  │             \u001B[38;5;34m0\u001B[0m │\n├─────────────────────────────────┼────────────────────────┼───────────────┤\n│ conv3d_16 (\u001B[38;5;33mConv3D\u001B[0m)              │ (\u001B[38;5;45mNone\u001B[0m, \u001B[38;5;34m27\u001B[0m, \u001B[38;5;34m37\u001B[0m, \u001B[38;5;34m53\u001B[0m, \u001B[38;5;34m32\u001B[0m) │         \u001B[38;5;34m6,944\u001B[0m │\n├─────────────────────────────────┼────────────────────────┼───────────────┤\n│ max_pooling3d_11 (\u001B[38;5;33mMaxPooling3D\u001B[0m) │ (\u001B[38;5;45mNone\u001B[0m, \u001B[38;5;34m13\u001B[0m, \u001B[38;5;34m18\u001B[0m, \u001B[38;5;34m26\u001B[0m, \u001B[38;5;34m32\u001B[0m) │             \u001B[38;5;34m0\u001B[0m │\n├─────────────────────────────────┼────────────────────────┼───────────────┤\n│ conv3d_17 (\u001B[38;5;33mConv3D\u001B[0m)              │ (\u001B[38;5;45mNone\u001B[0m, \u001B[38;5;34m11\u001B[0m, \u001B[38;5;34m16\u001B[0m, \u001B[38;5;34m24\u001B[0m,     │       \u001B[38;5;34m221,440\u001B[0m │\n│                                 │ \u001B[38;5;34m256\u001B[0m)                   │               │\n├─────────────────────────────────┼────────────────────────┼───────────────┤\n│ flatten_5 (\u001B[38;5;33mFlatten\u001B[0m)             │ (\u001B[38;5;45mNone\u001B[0m, \u001B[38;5;34m1081344\u001B[0m)        │             \u001B[38;5;34m0\u001B[0m │\n├─────────────────────────────────┼────────────────────────┼───────────────┤\n│ dense_20 (\u001B[38;5;33mDense\u001B[0m)                │ (\u001B[38;5;45mNone\u001B[0m, \u001B[38;5;34m512\u001B[0m)            │   \u001B[38;5;34m553,648,640\u001B[0m │\n├─────────────────────────────────┼────────────────────────┼───────────────┤\n│ dropout_15 (\u001B[38;5;33mDropout\u001B[0m)            │ (\u001B[38;5;45mNone\u001B[0m, \u001B[38;5;34m512\u001B[0m)            │             \u001B[38;5;34m0\u001B[0m │\n├─────────────────────────────────┼────────────────────────┼───────────────┤\n│ dense_21 (\u001B[38;5;33mDense\u001B[0m)                │ (\u001B[38;5;45mNone\u001B[0m, \u001B[38;5;34m256\u001B[0m)            │       \u001B[38;5;34m131,328\u001B[0m │\n├─────────────────────────────────┼────────────────────────┼───────────────┤\n│ dropout_16 (\u001B[38;5;33mDropout\u001B[0m)            │ (\u001B[38;5;45mNone\u001B[0m, \u001B[38;5;34m256\u001B[0m)            │             \u001B[38;5;34m0\u001B[0m │\n├─────────────────────────────────┼────────────────────────┼───────────────┤\n│ dense_22 (\u001B[38;5;33mDense\u001B[0m)                │ (\u001B[38;5;45mNone\u001B[0m, \u001B[38;5;34m64\u001B[0m)             │        \u001B[38;5;34m16,448\u001B[0m │\n├─────────────────────────────────┼────────────────────────┼───────────────┤\n│ dropout_17 (\u001B[38;5;33mDropout\u001B[0m)            │ (\u001B[38;5;45mNone\u001B[0m, \u001B[38;5;34m64\u001B[0m)             │             \u001B[38;5;34m0\u001B[0m │\n├─────────────────────────────────┼────────────────────────┼───────────────┤\n│ dense_23 (\u001B[38;5;33mDense\u001B[0m)                │ (\u001B[38;5;45mNone\u001B[0m, \u001B[38;5;34m5\u001B[0m)              │           \u001B[38;5;34m325\u001B[0m │\n└─────────────────────────────────┴────────────────────────┴───────────────┘\n",
      "text/html": "<pre style=\"white-space:pre;overflow-x:auto;line-height:normal;font-family:Menlo,'DejaVu Sans Mono',consolas,'Courier New',monospace\">┏━━━━━━━━━━━━━━━━━━━━━━━━━━━━━━━━━┳━━━━━━━━━━━━━━━━━━━━━━━━┳━━━━━━━━━━━━━━━┓\n┃<span style=\"font-weight: bold\"> Layer (type)                    </span>┃<span style=\"font-weight: bold\"> Output Shape           </span>┃<span style=\"font-weight: bold\">       Param # </span>┃\n┡━━━━━━━━━━━━━━━━━━━━━━━━━━━━━━━━━╇━━━━━━━━━━━━━━━━━━━━━━━━╇━━━━━━━━━━━━━━━┩\n│ conv3d_15 (<span style=\"color: #0087ff; text-decoration-color: #0087ff\">Conv3D</span>)              │ (<span style=\"color: #00d7ff; text-decoration-color: #00d7ff\">None</span>, <span style=\"color: #00af00; text-decoration-color: #00af00\">58</span>, <span style=\"color: #00af00; text-decoration-color: #00af00\">78</span>, <span style=\"color: #00af00; text-decoration-color: #00af00\">110</span>, <span style=\"color: #00af00; text-decoration-color: #00af00\">8</span>) │           <span style=\"color: #00af00; text-decoration-color: #00af00\">656</span> │\n├─────────────────────────────────┼────────────────────────┼───────────────┤\n│ max_pooling3d_10 (<span style=\"color: #0087ff; text-decoration-color: #0087ff\">MaxPooling3D</span>) │ (<span style=\"color: #00d7ff; text-decoration-color: #00d7ff\">None</span>, <span style=\"color: #00af00; text-decoration-color: #00af00\">29</span>, <span style=\"color: #00af00; text-decoration-color: #00af00\">39</span>, <span style=\"color: #00af00; text-decoration-color: #00af00\">55</span>, <span style=\"color: #00af00; text-decoration-color: #00af00\">8</span>)  │             <span style=\"color: #00af00; text-decoration-color: #00af00\">0</span> │\n├─────────────────────────────────┼────────────────────────┼───────────────┤\n│ conv3d_16 (<span style=\"color: #0087ff; text-decoration-color: #0087ff\">Conv3D</span>)              │ (<span style=\"color: #00d7ff; text-decoration-color: #00d7ff\">None</span>, <span style=\"color: #00af00; text-decoration-color: #00af00\">27</span>, <span style=\"color: #00af00; text-decoration-color: #00af00\">37</span>, <span style=\"color: #00af00; text-decoration-color: #00af00\">53</span>, <span style=\"color: #00af00; text-decoration-color: #00af00\">32</span>) │         <span style=\"color: #00af00; text-decoration-color: #00af00\">6,944</span> │\n├─────────────────────────────────┼────────────────────────┼───────────────┤\n│ max_pooling3d_11 (<span style=\"color: #0087ff; text-decoration-color: #0087ff\">MaxPooling3D</span>) │ (<span style=\"color: #00d7ff; text-decoration-color: #00d7ff\">None</span>, <span style=\"color: #00af00; text-decoration-color: #00af00\">13</span>, <span style=\"color: #00af00; text-decoration-color: #00af00\">18</span>, <span style=\"color: #00af00; text-decoration-color: #00af00\">26</span>, <span style=\"color: #00af00; text-decoration-color: #00af00\">32</span>) │             <span style=\"color: #00af00; text-decoration-color: #00af00\">0</span> │\n├─────────────────────────────────┼────────────────────────┼───────────────┤\n│ conv3d_17 (<span style=\"color: #0087ff; text-decoration-color: #0087ff\">Conv3D</span>)              │ (<span style=\"color: #00d7ff; text-decoration-color: #00d7ff\">None</span>, <span style=\"color: #00af00; text-decoration-color: #00af00\">11</span>, <span style=\"color: #00af00; text-decoration-color: #00af00\">16</span>, <span style=\"color: #00af00; text-decoration-color: #00af00\">24</span>,     │       <span style=\"color: #00af00; text-decoration-color: #00af00\">221,440</span> │\n│                                 │ <span style=\"color: #00af00; text-decoration-color: #00af00\">256</span>)                   │               │\n├─────────────────────────────────┼────────────────────────┼───────────────┤\n│ flatten_5 (<span style=\"color: #0087ff; text-decoration-color: #0087ff\">Flatten</span>)             │ (<span style=\"color: #00d7ff; text-decoration-color: #00d7ff\">None</span>, <span style=\"color: #00af00; text-decoration-color: #00af00\">1081344</span>)        │             <span style=\"color: #00af00; text-decoration-color: #00af00\">0</span> │\n├─────────────────────────────────┼────────────────────────┼───────────────┤\n│ dense_20 (<span style=\"color: #0087ff; text-decoration-color: #0087ff\">Dense</span>)                │ (<span style=\"color: #00d7ff; text-decoration-color: #00d7ff\">None</span>, <span style=\"color: #00af00; text-decoration-color: #00af00\">512</span>)            │   <span style=\"color: #00af00; text-decoration-color: #00af00\">553,648,640</span> │\n├─────────────────────────────────┼────────────────────────┼───────────────┤\n│ dropout_15 (<span style=\"color: #0087ff; text-decoration-color: #0087ff\">Dropout</span>)            │ (<span style=\"color: #00d7ff; text-decoration-color: #00d7ff\">None</span>, <span style=\"color: #00af00; text-decoration-color: #00af00\">512</span>)            │             <span style=\"color: #00af00; text-decoration-color: #00af00\">0</span> │\n├─────────────────────────────────┼────────────────────────┼───────────────┤\n│ dense_21 (<span style=\"color: #0087ff; text-decoration-color: #0087ff\">Dense</span>)                │ (<span style=\"color: #00d7ff; text-decoration-color: #00d7ff\">None</span>, <span style=\"color: #00af00; text-decoration-color: #00af00\">256</span>)            │       <span style=\"color: #00af00; text-decoration-color: #00af00\">131,328</span> │\n├─────────────────────────────────┼────────────────────────┼───────────────┤\n│ dropout_16 (<span style=\"color: #0087ff; text-decoration-color: #0087ff\">Dropout</span>)            │ (<span style=\"color: #00d7ff; text-decoration-color: #00d7ff\">None</span>, <span style=\"color: #00af00; text-decoration-color: #00af00\">256</span>)            │             <span style=\"color: #00af00; text-decoration-color: #00af00\">0</span> │\n├─────────────────────────────────┼────────────────────────┼───────────────┤\n│ dense_22 (<span style=\"color: #0087ff; text-decoration-color: #0087ff\">Dense</span>)                │ (<span style=\"color: #00d7ff; text-decoration-color: #00d7ff\">None</span>, <span style=\"color: #00af00; text-decoration-color: #00af00\">64</span>)             │        <span style=\"color: #00af00; text-decoration-color: #00af00\">16,448</span> │\n├─────────────────────────────────┼────────────────────────┼───────────────┤\n│ dropout_17 (<span style=\"color: #0087ff; text-decoration-color: #0087ff\">Dropout</span>)            │ (<span style=\"color: #00d7ff; text-decoration-color: #00d7ff\">None</span>, <span style=\"color: #00af00; text-decoration-color: #00af00\">64</span>)             │             <span style=\"color: #00af00; text-decoration-color: #00af00\">0</span> │\n├─────────────────────────────────┼────────────────────────┼───────────────┤\n│ dense_23 (<span style=\"color: #0087ff; text-decoration-color: #0087ff\">Dense</span>)                │ (<span style=\"color: #00d7ff; text-decoration-color: #00d7ff\">None</span>, <span style=\"color: #00af00; text-decoration-color: #00af00\">5</span>)              │           <span style=\"color: #00af00; text-decoration-color: #00af00\">325</span> │\n└─────────────────────────────────┴────────────────────────┴───────────────┘\n</pre>\n"
     },
     "metadata": {},
     "output_type": "display_data"
    },
    {
     "data": {
      "text/plain": "\u001B[1m Total params: \u001B[0m\u001B[38;5;34m554,025,781\u001B[0m (2.06 GB)\n",
      "text/html": "<pre style=\"white-space:pre;overflow-x:auto;line-height:normal;font-family:Menlo,'DejaVu Sans Mono',consolas,'Courier New',monospace\"><span style=\"font-weight: bold\"> Total params: </span><span style=\"color: #00af00; text-decoration-color: #00af00\">554,025,781</span> (2.06 GB)\n</pre>\n"
     },
     "metadata": {},
     "output_type": "display_data"
    },
    {
     "data": {
      "text/plain": "\u001B[1m Trainable params: \u001B[0m\u001B[38;5;34m554,025,781\u001B[0m (2.06 GB)\n",
      "text/html": "<pre style=\"white-space:pre;overflow-x:auto;line-height:normal;font-family:Menlo,'DejaVu Sans Mono',consolas,'Courier New',monospace\"><span style=\"font-weight: bold\"> Trainable params: </span><span style=\"color: #00af00; text-decoration-color: #00af00\">554,025,781</span> (2.06 GB)\n</pre>\n"
     },
     "metadata": {},
     "output_type": "display_data"
    },
    {
     "data": {
      "text/plain": "\u001B[1m Non-trainable params: \u001B[0m\u001B[38;5;34m0\u001B[0m (0.00 B)\n",
      "text/html": "<pre style=\"white-space:pre;overflow-x:auto;line-height:normal;font-family:Menlo,'DejaVu Sans Mono',consolas,'Courier New',monospace\"><span style=\"font-weight: bold\"> Non-trainable params: </span><span style=\"color: #00af00; text-decoration-color: #00af00\">0</span> (0.00 B)\n</pre>\n"
     },
     "metadata": {},
     "output_type": "display_data"
    }
   ],
   "source": [
    "# Define the input shape based on the frames and dimensions of your data\n",
    "input_shape = (60, 80, 112, 3)  # Adjusted to fit the 60 frames in each video, with frame size 80x112 in RGB\n",
    "\n",
    "# Define the model architecture\n",
    "model = Sequential()\n",
    "model.add(Conv3D(8, (3, 3, 3), activation='relu', input_shape=input_shape, kernel_regularizer=regularizers.l2(0.001)))\n",
    "model.add(MaxPooling3D((2, 2, 2)))\n",
    "model.add(Conv3D(32, (3, 3, 3), activation='relu', kernel_regularizer=regularizers.l2(0.001)))\n",
    "model.add(MaxPooling3D((2, 2, 2)))\n",
    "model.add(Conv3D(256, (3, 3, 3), activation='relu', kernel_regularizer=regularizers.l2(0.001)))\n",
    "model.add(Flatten())\n",
    "model.add(Dense(512, activation='relu'))\n",
    "model.add(Dropout(0.5))\n",
    "model.add(Dense(256, activation='relu'))\n",
    "model.add(Dropout(0.5))\n",
    "model.add(Dense(64, activation='relu'))\n",
    "model.add(Dropout(0.5))\n",
    "model.add(Dense(5, activation='softmax'))  # Adjusted to match 5 unique words\n",
    "\n",
    "# Compile the model\n",
    "model.compile(optimizer='adam', loss='categorical_crossentropy', metrics=['accuracy'])\n",
    "\n",
    "# Convert the target labels to one-hot encoding\n",
    "y_train_onehot = tf.keras.utils.to_categorical(y_train)\n",
    "y_test_onehot = tf.keras.utils.to_categorical(y_test)\n",
    "\n",
    "# Display the model summary to confirm the architecture\n",
    "model.summary()\n",
    "\n",
    "# Optionally, start training the model with the training data\n",
    "# model.fit(X_train, y_train_onehot, validation_data=(X_test, y_test_onehot), epochs=10, batch_size=32)"
   ],
   "metadata": {
    "collapsed": false,
    "ExecuteTime": {
     "end_time": "2024-11-06T23:41:22.220918600Z",
     "start_time": "2024-11-06T23:41:20.037072600Z"
    }
   }
  },
  {
   "cell_type": "code",
   "execution_count": null,
   "outputs": [
    {
     "name": "stdout",
     "output_type": "stream",
     "text": [
      "Epoch 1/20\n",
      "\u001B[1m5/5\u001B[0m \u001B[32m━━━━━━━━━━━━━━━━━━━━\u001B[0m\u001B[37m\u001B[0m \u001B[1m104s\u001B[0m 19s/step - accuracy: 0.2382 - loss: 2354.7344 - val_accuracy: 0.1500 - val_loss: 1.7193\n",
      "Epoch 2/20\n",
      "\u001B[1m5/5\u001B[0m \u001B[32m━━━━━━━━━━━━━━━━━━━━\u001B[0m\u001B[37m\u001B[0m \u001B[1m89s\u001B[0m 16s/step - accuracy: 0.2769 - loss: 3.5218 - val_accuracy: 0.3000 - val_loss: 1.6768\n",
      "Epoch 3/20\n",
      "\u001B[1m5/5\u001B[0m \u001B[32m━━━━━━━━━━━━━━━━━━━━\u001B[0m\u001B[37m\u001B[0m \u001B[1m136s\u001B[0m 29s/step - accuracy: 0.3247 - loss: 1.6634 - val_accuracy: 0.5000 - val_loss: 1.6753\n",
      "Epoch 4/20\n",
      "\u001B[1m5/5\u001B[0m \u001B[32m━━━━━━━━━━━━━━━━━━━━\u001B[0m\u001B[37m\u001B[0m \u001B[1m151s\u001B[0m 30s/step - accuracy: 0.2823 - loss: 1.7065 - val_accuracy: 0.2500 - val_loss: 1.6794\n",
      "Epoch 5/20\n",
      "\u001B[1m5/5\u001B[0m \u001B[32m━━━━━━━━━━━━━━━━━━━━\u001B[0m\u001B[37m\u001B[0m \u001B[1m148s\u001B[0m 30s/step - accuracy: 0.3266 - loss: 2.1933 - val_accuracy: 0.1500 - val_loss: 1.7166\n",
      "Epoch 6/20\n",
      "\u001B[1m5/5\u001B[0m \u001B[32m━━━━━━━━━━━━━━━━━━━━\u001B[0m\u001B[37m\u001B[0m \u001B[1m129s\u001B[0m 27s/step - accuracy: 0.2094 - loss: 1.7473 - val_accuracy: 0.2000 - val_loss: 1.6878\n",
      "Epoch 7/20\n",
      "\u001B[1m5/5\u001B[0m \u001B[32m━━━━━━━━━━━━━━━━━━━━\u001B[0m\u001B[37m\u001B[0m \u001B[1m132s\u001B[0m 27s/step - accuracy: 0.2012 - loss: 1.6868 - val_accuracy: 0.2500 - val_loss: 1.6859\n",
      "Epoch 8/20\n",
      "\u001B[1m5/5\u001B[0m \u001B[32m━━━━━━━━━━━━━━━━━━━━\u001B[0m\u001B[37m\u001B[0m \u001B[1m126s\u001B[0m 24s/step - accuracy: 0.2186 - loss: 1.6948 - val_accuracy: 0.1500 - val_loss: 1.6903\n",
      "Epoch 9/20\n",
      "\u001B[1m5/5\u001B[0m \u001B[32m━━━━━━━━━━━━━━━━━━━━\u001B[0m\u001B[37m\u001B[0m \u001B[1m126s\u001B[0m 24s/step - accuracy: 0.1858 - loss: 1.6903 - val_accuracy: 0.1500 - val_loss: 1.6902\n",
      "Epoch 10/20\n",
      "\u001B[1m5/5\u001B[0m \u001B[32m━━━━━━━━━━━━━━━━━━━━\u001B[0m\u001B[37m\u001B[0m \u001B[1m153s\u001B[0m 33s/step - accuracy: 0.1877 - loss: 1.6867 - val_accuracy: 0.1500 - val_loss: 1.6902\n",
      "Epoch 11/20\n",
      "\u001B[1m5/5\u001B[0m \u001B[32m━━━━━━━━━━━━━━━━━━━━\u001B[0m\u001B[37m\u001B[0m \u001B[1m136s\u001B[0m 25s/step - accuracy: 0.1995 - loss: 1.6879 - val_accuracy: 0.1500 - val_loss: 1.6902\n",
      "Epoch 12/20\n",
      "\u001B[1m5/5\u001B[0m \u001B[32m━━━━━━━━━━━━━━━━━━━━\u001B[0m\u001B[37m\u001B[0m \u001B[1m133s\u001B[0m 26s/step - accuracy: 0.2479 - loss: 1.6835 - val_accuracy: 0.1500 - val_loss: 1.6905\n",
      "Epoch 13/20\n",
      "\u001B[1m5/5\u001B[0m \u001B[32m━━━━━━━━━━━━━━━━━━━━\u001B[0m\u001B[37m\u001B[0m \u001B[1m152s\u001B[0m 33s/step - accuracy: 0.2450 - loss: 1.6877 - val_accuracy: 0.1500 - val_loss: 1.6906\n",
      "Epoch 14/20\n",
      "\u001B[1m5/5\u001B[0m \u001B[32m━━━━━━━━━━━━━━━━━━━━\u001B[0m\u001B[37m\u001B[0m \u001B[1m119s\u001B[0m 25s/step - accuracy: 0.1252 - loss: 1.6901 - val_accuracy: 0.1500 - val_loss: 1.6906\n",
      "Epoch 15/20\n",
      "\u001B[1m5/5\u001B[0m \u001B[32m━━━━━━━━━━━━━━━━━━━━\u001B[0m\u001B[37m\u001B[0m \u001B[1m140s\u001B[0m 28s/step - accuracy: 0.1523 - loss: 1.6881 - val_accuracy: 0.1500 - val_loss: 1.6906\n",
      "Epoch 16/20\n",
      "\u001B[1m5/5\u001B[0m \u001B[32m━━━━━━━━━━━━━━━━━━━━\u001B[0m\u001B[37m\u001B[0m \u001B[1m137s\u001B[0m 26s/step - accuracy: 0.2590 - loss: 1.6837 - val_accuracy: 0.1500 - val_loss: 1.6907\n",
      "Epoch 17/20\n"
     ]
    }
   ],
   "source": [
    "# Train the model and record the training history\n",
    "history = model.fit(\n",
    "    X_train,               # Training data (input videos)\n",
    "    y_train_onehot,        # Training labels in one-hot encoded format\n",
    "    epochs=20,             # Number of epochs (adjustable based on performance)\n",
    "    batch_size=16,         # Batch size for training\n",
    "    validation_data=(X_test, y_test_onehot)  # Validation data and labels\n",
    ")"
   ],
   "metadata": {
    "collapsed": false,
    "is_executing": true,
    "ExecuteTime": {
     "start_time": "2024-11-06T23:41:29.571364500Z"
    }
   }
  }
 ],
 "metadata": {
  "kernelspec": {
   "display_name": "Python 3",
   "language": "python",
   "name": "python3"
  },
  "language_info": {
   "codemirror_mode": {
    "name": "ipython",
    "version": 2
   },
   "file_extension": ".py",
   "mimetype": "text/x-python",
   "name": "python",
   "nbconvert_exporter": "python",
   "pygments_lexer": "ipython2",
   "version": "2.7.6"
  }
 },
 "nbformat": 4,
 "nbformat_minor": 0
}
